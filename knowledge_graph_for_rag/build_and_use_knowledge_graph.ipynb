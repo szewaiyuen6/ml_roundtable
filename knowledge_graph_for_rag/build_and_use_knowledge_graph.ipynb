{
 "cells": [
  {
   "cell_type": "code",
   "execution_count": null,
   "id": "e9b7521b",
   "metadata": {},
   "outputs": [],
   "source": [
    "# Notebook for ML roundtable on knowledge graph and RAG\n",
    "## This notebook is a basic demonstration of building and querying a knowledge graph using LLM"
   ]
  },
  {
   "cell_type": "code",
   "execution_count": null,
   "id": "bcfa8072",
   "metadata": {},
   "outputs": [],
   "source": [
    "%pip install llama-index-readers-wikipedia\n",
    "%pip install llama-index-llms-openai"
   ]
  },
  {
   "cell_type": "code",
   "execution_count": 3,
   "id": "8a82e294-e548-4d6e-a321-9141a42beaba",
   "metadata": {},
   "outputs": [
    {
     "name": "stdout",
     "output_type": "stream",
     "text": [
      "Looking in indexes: https://pypi.org/simple, https://pypi.ngc.nvidia.com\n",
      "Collecting llama-index\n",
      "  Obtaining dependency information for llama-index from https://files.pythonhosted.org/packages/60/47/0f9640650f6b65748557cb72956d18e9b3c7849ddd369ca19fbe25a299a5/llama_index-0.10.40-py3-none-any.whl.metadata\n",
      "  Downloading llama_index-0.10.40-py3-none-any.whl.metadata (11 kB)\n",
      "Collecting llama-index-agent-openai<0.3.0,>=0.1.4 (from llama-index)\n",
      "  Obtaining dependency information for llama-index-agent-openai<0.3.0,>=0.1.4 from https://files.pythonhosted.org/packages/bb/55/56641aadc604e1e7174467743fb185d730e9eb8ac222f7fbf6df14f38994/llama_index_agent_openai-0.2.5-py3-none-any.whl.metadata\n",
      "  Downloading llama_index_agent_openai-0.2.5-py3-none-any.whl.metadata (678 bytes)\n",
      "Collecting llama-index-cli<0.2.0,>=0.1.2 (from llama-index)\n",
      "  Obtaining dependency information for llama-index-cli<0.2.0,>=0.1.2 from https://files.pythonhosted.org/packages/8c/1b/554b8da1c7b62a7660a3ab0adfdc13a6046cad45a2490c3640728164f058/llama_index_cli-0.1.12-py3-none-any.whl.metadata\n",
      "  Downloading llama_index_cli-0.1.12-py3-none-any.whl.metadata (1.5 kB)\n",
      "Requirement already satisfied: llama-index-core<0.11.0,>=0.10.40 in /usr/local/lib/python3.10/dist-packages (from llama-index) (0.10.40)\n",
      "Collecting llama-index-embeddings-openai<0.2.0,>=0.1.5 (from llama-index)\n",
      "  Obtaining dependency information for llama-index-embeddings-openai<0.2.0,>=0.1.5 from https://files.pythonhosted.org/packages/f2/9b/e551e94edf3bdae8ca3a456ee9f1a87ae5e903535ddfb87b28eda4c27456/llama_index_embeddings_openai-0.1.10-py3-none-any.whl.metadata\n",
      "  Downloading llama_index_embeddings_openai-0.1.10-py3-none-any.whl.metadata (604 bytes)\n",
      "Collecting llama-index-indices-managed-llama-cloud<0.2.0,>=0.1.2 (from llama-index)\n",
      "  Obtaining dependency information for llama-index-indices-managed-llama-cloud<0.2.0,>=0.1.2 from https://files.pythonhosted.org/packages/ef/7a/07f3be0a5a535382ca528b9f6b62316b43680396156ae3f799aec3577ebb/llama_index_indices_managed_llama_cloud-0.1.6-py3-none-any.whl.metadata\n",
      "  Downloading llama_index_indices_managed_llama_cloud-0.1.6-py3-none-any.whl.metadata (3.8 kB)\n",
      "Collecting llama-index-legacy<0.10.0,>=0.9.48 (from llama-index)\n",
      "  Obtaining dependency information for llama-index-legacy<0.10.0,>=0.9.48 from https://files.pythonhosted.org/packages/02/0a/0da9d27b0c3b074c1be1151ff4a4558f077c93df463310adfb47d193dde2/llama_index_legacy-0.9.48-py3-none-any.whl.metadata\n",
      "  Downloading llama_index_legacy-0.9.48-py3-none-any.whl.metadata (8.5 kB)\n",
      "Requirement already satisfied: llama-index-llms-openai<0.2.0,>=0.1.13 in /usr/local/lib/python3.10/dist-packages (from llama-index) (0.1.21)\n",
      "Collecting llama-index-multi-modal-llms-openai<0.2.0,>=0.1.3 (from llama-index)\n",
      "  Obtaining dependency information for llama-index-multi-modal-llms-openai<0.2.0,>=0.1.3 from https://files.pythonhosted.org/packages/2e/cb/d69c14583adb42b72d472af8ffa13fe10b1e550c1f202cb39429e6b88d47/llama_index_multi_modal_llms_openai-0.1.6-py3-none-any.whl.metadata\n",
      "  Downloading llama_index_multi_modal_llms_openai-0.1.6-py3-none-any.whl.metadata (677 bytes)\n",
      "Collecting llama-index-program-openai<0.2.0,>=0.1.3 (from llama-index)\n",
      "  Obtaining dependency information for llama-index-program-openai<0.2.0,>=0.1.3 from https://files.pythonhosted.org/packages/69/12/d47f38e2f2c18398650db776ab7bec1a7e0ba83664ef04843f664da94126/llama_index_program_openai-0.1.6-py3-none-any.whl.metadata\n",
      "  Downloading llama_index_program_openai-0.1.6-py3-none-any.whl.metadata (715 bytes)\n",
      "Collecting llama-index-question-gen-openai<0.2.0,>=0.1.2 (from llama-index)\n",
      "  Obtaining dependency information for llama-index-question-gen-openai<0.2.0,>=0.1.2 from https://files.pythonhosted.org/packages/2d/22/39f3ac5702b0e8ffd4d5a383c7cb2da0eb60f63b95f739345e79b66bf977/llama_index_question_gen_openai-0.1.3-py3-none-any.whl.metadata\n",
      "  Downloading llama_index_question_gen_openai-0.1.3-py3-none-any.whl.metadata (785 bytes)\n",
      "Collecting llama-index-readers-file<0.2.0,>=0.1.4 (from llama-index)\n",
      "  Obtaining dependency information for llama-index-readers-file<0.2.0,>=0.1.4 from https://files.pythonhosted.org/packages/ff/e1/37bc2e995ca2c416f74a82b7fe9df5b8682af7c94e8792a4eb7ddf5d1ae8/llama_index_readers_file-0.1.23-py3-none-any.whl.metadata\n",
      "  Downloading llama_index_readers_file-0.1.23-py3-none-any.whl.metadata (5.4 kB)\n",
      "Collecting llama-index-readers-llama-parse<0.2.0,>=0.1.2 (from llama-index)\n",
      "  Obtaining dependency information for llama-index-readers-llama-parse<0.2.0,>=0.1.2 from https://files.pythonhosted.org/packages/79/af/e9aaf5e8869dd8a759b83ab8847cfb84642f3f583332a1786b49c691bbc6/llama_index_readers_llama_parse-0.1.4-py3-none-any.whl.metadata\n",
      "  Downloading llama_index_readers_llama_parse-0.1.4-py3-none-any.whl.metadata (3.5 kB)\n",
      "Requirement already satisfied: openai>=1.14.0 in /usr/local/lib/python3.10/dist-packages (from llama-index-agent-openai<0.3.0,>=0.1.4->llama-index) (1.30.4)\n",
      "Requirement already satisfied: PyYAML>=6.0.1 in /usr/local/lib/python3.10/dist-packages (from llama-index-core<0.11.0,>=0.10.40->llama-index) (6.0.1)\n",
      "Requirement already satisfied: SQLAlchemy[asyncio]>=1.4.49 in /usr/local/lib/python3.10/dist-packages (from llama-index-core<0.11.0,>=0.10.40->llama-index) (1.4.52)\n",
      "Requirement already satisfied: aiohttp<4.0.0,>=3.8.6 in /usr/local/lib/python3.10/dist-packages (from llama-index-core<0.11.0,>=0.10.40->llama-index) (3.9.5)\n",
      "Requirement already satisfied: dataclasses-json in /usr/local/lib/python3.10/dist-packages (from llama-index-core<0.11.0,>=0.10.40->llama-index) (0.6.4)\n",
      "Requirement already satisfied: deprecated>=1.2.9.3 in /usr/local/lib/python3.10/dist-packages (from llama-index-core<0.11.0,>=0.10.40->llama-index) (1.2.14)\n",
      "Requirement already satisfied: dirtyjson<2.0.0,>=1.0.8 in /usr/local/lib/python3.10/dist-packages (from llama-index-core<0.11.0,>=0.10.40->llama-index) (1.0.8)\n",
      "Requirement already satisfied: fsspec>=2023.5.0 in /usr/local/lib/python3.10/dist-packages (from llama-index-core<0.11.0,>=0.10.40->llama-index) (2023.6.0)\n",
      "Requirement already satisfied: httpx in /usr/local/lib/python3.10/dist-packages (from llama-index-core<0.11.0,>=0.10.40->llama-index) (0.26.0)\n",
      "Requirement already satisfied: llamaindex-py-client<0.2.0,>=0.1.18 in /usr/local/lib/python3.10/dist-packages (from llama-index-core<0.11.0,>=0.10.40->llama-index) (0.1.19)\n",
      "Requirement already satisfied: nest-asyncio<2.0.0,>=1.5.8 in /usr/local/lib/python3.10/dist-packages (from llama-index-core<0.11.0,>=0.10.40->llama-index) (1.6.0)\n",
      "Requirement already satisfied: networkx>=3.0 in /usr/local/lib/python3.10/dist-packages (from llama-index-core<0.11.0,>=0.10.40->llama-index) (3.3)\n",
      "Requirement already satisfied: nltk<4.0.0,>=3.8.1 in /usr/local/lib/python3.10/dist-packages (from llama-index-core<0.11.0,>=0.10.40->llama-index) (3.8.1)\n",
      "Requirement already satisfied: numpy in /usr/local/lib/python3.10/dist-packages (from llama-index-core<0.11.0,>=0.10.40->llama-index) (1.26.3)\n",
      "Requirement already satisfied: pandas in /usr/local/lib/python3.10/dist-packages (from llama-index-core<0.11.0,>=0.10.40->llama-index) (2.2.0)\n",
      "Requirement already satisfied: pillow>=9.0.0 in /usr/local/lib/python3.10/dist-packages (from llama-index-core<0.11.0,>=0.10.40->llama-index) (9.2.0)\n",
      "Requirement already satisfied: requests>=2.31.0 in /usr/local/lib/python3.10/dist-packages (from llama-index-core<0.11.0,>=0.10.40->llama-index) (2.31.0)\n",
      "Requirement already satisfied: tenacity<9.0.0,>=8.2.0 in /usr/local/lib/python3.10/dist-packages (from llama-index-core<0.11.0,>=0.10.40->llama-index) (8.3.0)\n",
      "Requirement already satisfied: tiktoken>=0.3.3 in /usr/local/lib/python3.10/dist-packages (from llama-index-core<0.11.0,>=0.10.40->llama-index) (0.7.0)\n",
      "Requirement already satisfied: tqdm<5.0.0,>=4.66.1 in /usr/local/lib/python3.10/dist-packages (from llama-index-core<0.11.0,>=0.10.40->llama-index) (4.66.1)\n",
      "Requirement already satisfied: typing-extensions>=4.5.0 in /usr/local/lib/python3.10/dist-packages (from llama-index-core<0.11.0,>=0.10.40->llama-index) (4.11.0)\n",
      "Requirement already satisfied: typing-inspect>=0.8.0 in /usr/local/lib/python3.10/dist-packages (from llama-index-core<0.11.0,>=0.10.40->llama-index) (0.9.0)\n",
      "Requirement already satisfied: wrapt in /usr/local/lib/python3.10/dist-packages (from llama-index-core<0.11.0,>=0.10.40->llama-index) (1.16.0)\n",
      "Collecting beautifulsoup4<5.0.0,>=4.12.3 (from llama-index-readers-file<0.2.0,>=0.1.4->llama-index)\n",
      "  Obtaining dependency information for beautifulsoup4<5.0.0,>=4.12.3 from https://files.pythonhosted.org/packages/b1/fe/e8c672695b37eecc5cbf43e1d0638d88d66ba3a44c4d321c796f4e59167f/beautifulsoup4-4.12.3-py3-none-any.whl.metadata\n",
      "  Downloading beautifulsoup4-4.12.3-py3-none-any.whl.metadata (3.8 kB)\n",
      "Collecting pypdf<5.0.0,>=4.0.1 (from llama-index-readers-file<0.2.0,>=0.1.4->llama-index)\n",
      "  Obtaining dependency information for pypdf<5.0.0,>=4.0.1 from https://files.pythonhosted.org/packages/c9/d1/450b19bbdbb2c802f554312c62ce2a2c0d8744fe14735bc70ad2803578c7/pypdf-4.2.0-py3-none-any.whl.metadata\n",
      "  Downloading pypdf-4.2.0-py3-none-any.whl.metadata (7.4 kB)\n",
      "Collecting striprtf<0.0.27,>=0.0.26 (from llama-index-readers-file<0.2.0,>=0.1.4->llama-index)\n",
      "  Obtaining dependency information for striprtf<0.0.27,>=0.0.26 from https://files.pythonhosted.org/packages/a3/cf/0fea4f4ba3fc2772ac2419278aa9f6964124d4302117d61bc055758e000c/striprtf-0.0.26-py3-none-any.whl.metadata\n",
      "  Downloading striprtf-0.0.26-py3-none-any.whl.metadata (2.1 kB)\n",
      "Collecting llama-parse<0.5.0,>=0.4.0 (from llama-index-readers-llama-parse<0.2.0,>=0.1.2->llama-index)\n",
      "  Obtaining dependency information for llama-parse<0.5.0,>=0.4.0 from https://files.pythonhosted.org/packages/88/a6/3744d3c9f39d2a104eb73e89c14201bb2948a20811b5c3a9a3fc02916966/llama_parse-0.4.3-py3-none-any.whl.metadata\n",
      "  Downloading llama_parse-0.4.3-py3-none-any.whl.metadata (3.5 kB)\n",
      "Requirement already satisfied: aiosignal>=1.1.2 in /usr/local/lib/python3.10/dist-packages (from aiohttp<4.0.0,>=3.8.6->llama-index-core<0.11.0,>=0.10.40->llama-index) (1.3.1)\n",
      "Requirement already satisfied: attrs>=17.3.0 in /usr/local/lib/python3.10/dist-packages (from aiohttp<4.0.0,>=3.8.6->llama-index-core<0.11.0,>=0.10.40->llama-index) (23.1.0)\n",
      "Requirement already satisfied: frozenlist>=1.1.1 in /usr/local/lib/python3.10/dist-packages (from aiohttp<4.0.0,>=3.8.6->llama-index-core<0.11.0,>=0.10.40->llama-index) (1.4.0)\n",
      "Requirement already satisfied: multidict<7.0,>=4.5 in /usr/local/lib/python3.10/dist-packages (from aiohttp<4.0.0,>=3.8.6->llama-index-core<0.11.0,>=0.10.40->llama-index) (6.0.4)\n",
      "Requirement already satisfied: yarl<2.0,>=1.0 in /usr/local/lib/python3.10/dist-packages (from aiohttp<4.0.0,>=3.8.6->llama-index-core<0.11.0,>=0.10.40->llama-index) (1.9.2)\n",
      "Requirement already satisfied: async-timeout<5.0,>=4.0 in /usr/local/lib/python3.10/dist-packages (from aiohttp<4.0.0,>=3.8.6->llama-index-core<0.11.0,>=0.10.40->llama-index) (4.0.3)\n",
      "Requirement already satisfied: soupsieve>1.2 in /usr/local/lib/python3.10/dist-packages (from beautifulsoup4<5.0.0,>=4.12.3->llama-index-readers-file<0.2.0,>=0.1.4->llama-index) (2.5)\n",
      "Requirement already satisfied: pydantic>=1.10 in /usr/local/lib/python3.10/dist-packages (from llamaindex-py-client<0.2.0,>=0.1.18->llama-index-core<0.11.0,>=0.10.40->llama-index) (1.10.12)\n",
      "Requirement already satisfied: anyio in /usr/local/lib/python3.10/dist-packages (from httpx->llama-index-core<0.11.0,>=0.10.40->llama-index) (4.3.0)\n",
      "Requirement already satisfied: certifi in /usr/local/lib/python3.10/dist-packages (from httpx->llama-index-core<0.11.0,>=0.10.40->llama-index) (2023.7.22)\n",
      "Requirement already satisfied: httpcore==1.* in /usr/local/lib/python3.10/dist-packages (from httpx->llama-index-core<0.11.0,>=0.10.40->llama-index) (1.0.5)\n",
      "Requirement already satisfied: idna in /usr/local/lib/python3.10/dist-packages (from httpx->llama-index-core<0.11.0,>=0.10.40->llama-index) (3.4)\n",
      "Requirement already satisfied: sniffio in /usr/local/lib/python3.10/dist-packages (from httpx->llama-index-core<0.11.0,>=0.10.40->llama-index) (1.3.1)\n",
      "Requirement already satisfied: h11<0.15,>=0.13 in /usr/local/lib/python3.10/dist-packages (from httpcore==1.*->httpx->llama-index-core<0.11.0,>=0.10.40->llama-index) (0.14.0)\n",
      "Requirement already satisfied: click in /usr/local/lib/python3.10/dist-packages (from nltk<4.0.0,>=3.8.1->llama-index-core<0.11.0,>=0.10.40->llama-index) (8.1.6)\n",
      "Requirement already satisfied: joblib in /usr/local/lib/python3.10/dist-packages (from nltk<4.0.0,>=3.8.1->llama-index-core<0.11.0,>=0.10.40->llama-index) (1.3.2)\n",
      "Requirement already satisfied: regex>=2021.8.3 in /usr/local/lib/python3.10/dist-packages (from nltk<4.0.0,>=3.8.1->llama-index-core<0.11.0,>=0.10.40->llama-index) (2023.8.8)\n",
      "Requirement already satisfied: distro<2,>=1.7.0 in /usr/local/lib/python3.10/dist-packages (from openai>=1.14.0->llama-index-agent-openai<0.3.0,>=0.1.4->llama-index) (1.9.0)\n",
      "Requirement already satisfied: charset-normalizer<4,>=2 in /usr/local/lib/python3.10/dist-packages (from requests>=2.31.0->llama-index-core<0.11.0,>=0.10.40->llama-index) (3.2.0)\n",
      "Requirement already satisfied: urllib3<3,>=1.21.1 in /usr/local/lib/python3.10/dist-packages (from requests>=2.31.0->llama-index-core<0.11.0,>=0.10.40->llama-index) (1.26.16)\n",
      "Requirement already satisfied: greenlet!=0.4.17 in /usr/local/lib/python3.10/dist-packages (from SQLAlchemy[asyncio]>=1.4.49->llama-index-core<0.11.0,>=0.10.40->llama-index) (3.0.3)\n",
      "Requirement already satisfied: mypy-extensions>=0.3.0 in /usr/local/lib/python3.10/dist-packages (from typing-inspect>=0.8.0->llama-index-core<0.11.0,>=0.10.40->llama-index) (1.0.0)\n",
      "Requirement already satisfied: marshmallow<4.0.0,>=3.18.0 in /usr/local/lib/python3.10/dist-packages (from dataclasses-json->llama-index-core<0.11.0,>=0.10.40->llama-index) (3.21.1)\n",
      "Requirement already satisfied: python-dateutil>=2.8.2 in /usr/local/lib/python3.10/dist-packages (from pandas->llama-index-core<0.11.0,>=0.10.40->llama-index) (2.8.2)\n",
      "Requirement already satisfied: pytz>=2020.1 in /usr/local/lib/python3.10/dist-packages (from pandas->llama-index-core<0.11.0,>=0.10.40->llama-index) (2023.3)\n",
      "Requirement already satisfied: tzdata>=2022.7 in /usr/local/lib/python3.10/dist-packages (from pandas->llama-index-core<0.11.0,>=0.10.40->llama-index) (2024.1)\n",
      "Requirement already satisfied: exceptiongroup>=1.0.2 in /usr/local/lib/python3.10/dist-packages (from anyio->httpx->llama-index-core<0.11.0,>=0.10.40->llama-index) (1.1.3)\n",
      "Requirement already satisfied: packaging>=17.0 in /usr/local/lib/python3.10/dist-packages (from marshmallow<4.0.0,>=3.18.0->dataclasses-json->llama-index-core<0.11.0,>=0.10.40->llama-index) (23.1)\n",
      "Requirement already satisfied: six>=1.5 in /usr/local/lib/python3.10/dist-packages (from python-dateutil>=2.8.2->pandas->llama-index-core<0.11.0,>=0.10.40->llama-index) (1.16.0)\n",
      "Downloading llama_index-0.10.40-py3-none-any.whl (6.8 kB)\n",
      "Downloading llama_index_agent_openai-0.2.5-py3-none-any.whl (13 kB)\n",
      "Downloading llama_index_cli-0.1.12-py3-none-any.whl (26 kB)\n",
      "Downloading llama_index_embeddings_openai-0.1.10-py3-none-any.whl (6.2 kB)\n",
      "Downloading llama_index_indices_managed_llama_cloud-0.1.6-py3-none-any.whl (6.7 kB)\n",
      "Downloading llama_index_legacy-0.9.48-py3-none-any.whl (2.0 MB)\n",
      "\u001b[2K   \u001b[90m━━━━━━━━━━━━━━━━━━━━━━━━━━━━━━━━━━━━━━━━\u001b[0m \u001b[32m2.0/2.0 MB\u001b[0m \u001b[31m66.3 MB/s\u001b[0m eta \u001b[36m0:00:00\u001b[0m\n",
      "\u001b[?25hDownloading llama_index_multi_modal_llms_openai-0.1.6-py3-none-any.whl (5.8 kB)\n",
      "Downloading llama_index_program_openai-0.1.6-py3-none-any.whl (5.2 kB)\n",
      "Downloading llama_index_question_gen_openai-0.1.3-py3-none-any.whl (2.9 kB)\n",
      "Downloading llama_index_readers_file-0.1.23-py3-none-any.whl (36 kB)\n",
      "Downloading llama_index_readers_llama_parse-0.1.4-py3-none-any.whl (2.5 kB)\n",
      "Downloading beautifulsoup4-4.12.3-py3-none-any.whl (147 kB)\n",
      "\u001b[2K   \u001b[90m━━━━━━━━━━━━━━━━━━━━━━━━━━━━━━━━━━━━━━━\u001b[0m \u001b[32m147.9/147.9 kB\u001b[0m \u001b[31m301.6 MB/s\u001b[0m eta \u001b[36m0:00:00\u001b[0m\n",
      "\u001b[?25hDownloading llama_parse-0.4.3-py3-none-any.whl (7.7 kB)\n",
      "Downloading pypdf-4.2.0-py3-none-any.whl (290 kB)\n",
      "\u001b[2K   \u001b[90m━━━━━━━━━━━━━━━━━━━━━━━━━━━━━━━━━━━━━━━\u001b[0m \u001b[32m290.4/290.4 kB\u001b[0m \u001b[31m305.1 MB/s\u001b[0m eta \u001b[36m0:00:00\u001b[0m\n",
      "\u001b[?25hDownloading striprtf-0.0.26-py3-none-any.whl (6.9 kB)\n",
      "Installing collected packages: striprtf, pypdf, beautifulsoup4, llama-index-legacy, llama-parse, llama-index-readers-file, llama-index-indices-managed-llama-cloud, llama-index-embeddings-openai, llama-index-readers-llama-parse, llama-index-multi-modal-llms-openai, llama-index-cli, llama-index-agent-openai, llama-index-program-openai, llama-index-question-gen-openai, llama-index\n",
      "  Attempting uninstall: beautifulsoup4\n",
      "    Found existing installation: beautifulsoup4 4.12.2\n",
      "    Uninstalling beautifulsoup4-4.12.2:\n",
      "      Successfully uninstalled beautifulsoup4-4.12.2\n",
      "Successfully installed beautifulsoup4-4.12.3 llama-index-0.10.40 llama-index-agent-openai-0.2.5 llama-index-cli-0.1.12 llama-index-embeddings-openai-0.1.10 llama-index-indices-managed-llama-cloud-0.1.6 llama-index-legacy-0.9.48 llama-index-multi-modal-llms-openai-0.1.6 llama-index-program-openai-0.1.6 llama-index-question-gen-openai-0.1.3 llama-index-readers-file-0.1.23 llama-index-readers-llama-parse-0.1.4 llama-parse-0.4.3 pypdf-4.2.0 striprtf-0.0.26\n",
      "\u001b[33mWARNING: Running pip as the 'root' user can result in broken permissions and conflicting behaviour with the system package manager. It is recommended to use a virtual environment instead: https://pip.pypa.io/warnings/venv\u001b[0m\u001b[33m\n",
      "\u001b[0m\n",
      "\u001b[1m[\u001b[0m\u001b[34;49mnotice\u001b[0m\u001b[1;39;49m]\u001b[0m\u001b[39;49m A new release of pip is available: \u001b[0m\u001b[31;49m23.2.1\u001b[0m\u001b[39;49m -> \u001b[0m\u001b[32;49m24.0\u001b[0m\n",
      "\u001b[1m[\u001b[0m\u001b[34;49mnotice\u001b[0m\u001b[1;39;49m]\u001b[0m\u001b[39;49m To update, run: \u001b[0m\u001b[32;49mpython -m pip install --upgrade pip\u001b[0m\n"
     ]
    }
   ],
   "source": [
    "! pip install llama-index"
   ]
  },
  {
   "cell_type": "code",
   "execution_count": 4,
   "id": "c10b2b82-0613-4e83-a7c9-f43c9d30834f",
   "metadata": {},
   "outputs": [],
   "source": [
    "# For OpenAI\n",
    "\n",
    "import os\n",
    "openai_api_key = '<OPENAI_API_KEY>'\n",
    "os.environ[\"OPENAI_API_KEY\"] = openai_api_key\n",
    "\n",
    "import logging\n",
    "import sys\n",
    "\n",
    "logging.basicConfig(\n",
    "    stream=sys.stdout, level=logging.INFO\n",
    ")  # logging.DEBUG for more verbose output\n",
    "\n",
    "\n",
    "# define LLM\n",
    "from llama_index.llms.openai import OpenAI\n",
    "from llama_index.core import Settings\n",
    "\n",
    "Settings.llm = OpenAI(temperature=0, model=\"gpt-3.5-turbo\")\n",
    "Settings.chunk_size = 512"
   ]
  },
  {
   "cell_type": "code",
   "execution_count": 5,
   "id": "05afb834-94aa-4b92-b044-78d718cfcfd0",
   "metadata": {},
   "outputs": [
    {
     "name": "stdout",
     "output_type": "stream",
     "text": [
      "Looking in indexes: https://pypi.org/simple, https://pypi.ngc.nvidia.com\n",
      "Collecting wikipedia\n",
      "  Downloading wikipedia-1.4.0.tar.gz (27 kB)\n",
      "  Preparing metadata (setup.py) ... \u001b[?25ldone\n",
      "\u001b[?25hRequirement already satisfied: beautifulsoup4 in /usr/local/lib/python3.10/dist-packages (from wikipedia) (4.12.3)\n",
      "Requirement already satisfied: requests<3.0.0,>=2.0.0 in /usr/local/lib/python3.10/dist-packages (from wikipedia) (2.31.0)\n",
      "Requirement already satisfied: charset-normalizer<4,>=2 in /usr/local/lib/python3.10/dist-packages (from requests<3.0.0,>=2.0.0->wikipedia) (3.2.0)\n",
      "Requirement already satisfied: idna<4,>=2.5 in /usr/local/lib/python3.10/dist-packages (from requests<3.0.0,>=2.0.0->wikipedia) (3.4)\n",
      "Requirement already satisfied: urllib3<3,>=1.21.1 in /usr/local/lib/python3.10/dist-packages (from requests<3.0.0,>=2.0.0->wikipedia) (1.26.16)\n",
      "Requirement already satisfied: certifi>=2017.4.17 in /usr/local/lib/python3.10/dist-packages (from requests<3.0.0,>=2.0.0->wikipedia) (2023.7.22)\n",
      "Requirement already satisfied: soupsieve>1.2 in /usr/local/lib/python3.10/dist-packages (from beautifulsoup4->wikipedia) (2.5)\n",
      "Building wheels for collected packages: wikipedia\n",
      "  Building wheel for wikipedia (setup.py) ... \u001b[?25ldone\n",
      "\u001b[?25h  Created wheel for wikipedia: filename=wikipedia-1.4.0-py3-none-any.whl size=11693 sha256=ecf727d7976924a155463a1d395e0673083e8600156ad0f27b8a4c651e45aa2d\n",
      "  Stored in directory: /tmp/pip-ephem-wheel-cache-b_qz2yca/wheels/5e/b6/c5/93f3dec388ae76edc830cb42901bb0232504dfc0df02fc50de\n",
      "Successfully built wikipedia\n",
      "Installing collected packages: wikipedia\n",
      "Successfully installed wikipedia-1.4.0\n",
      "\u001b[33mWARNING: Running pip as the 'root' user can result in broken permissions and conflicting behaviour with the system package manager. It is recommended to use a virtual environment instead: https://pip.pypa.io/warnings/venv\u001b[0m\u001b[33m\n",
      "\u001b[0m\n",
      "\u001b[1m[\u001b[0m\u001b[34;49mnotice\u001b[0m\u001b[1;39;49m]\u001b[0m\u001b[39;49m A new release of pip is available: \u001b[0m\u001b[31;49m23.2.1\u001b[0m\u001b[39;49m -> \u001b[0m\u001b[32;49m24.0\u001b[0m\n",
      "\u001b[1m[\u001b[0m\u001b[34;49mnotice\u001b[0m\u001b[1;39;49m]\u001b[0m\u001b[39;49m To update, run: \u001b[0m\u001b[32;49mpython -m pip install --upgrade pip\u001b[0m\n"
     ]
    }
   ],
   "source": [
    "!pip install wikipedia"
   ]
  },
  {
   "cell_type": "code",
   "execution_count": 184,
   "id": "d0949f93-61fc-4a07-a13e-8839be80eb3a",
   "metadata": {},
   "outputs": [],
   "source": [
    "from llama_index.core import download_loader\n",
    "\n",
    "from llama_index.readers.wikipedia import WikipediaReader\n",
    "\n",
    "loader = WikipediaReader()\n",
    "\n",
    "documents = loader.load_data(\n",
    "    pages=[\"Taylor Swift\"], auto_suggest=False\n",
    ")"
   ]
  },
  {
   "cell_type": "code",
   "execution_count": 6,
   "id": "7bb7a0ba-d4b9-4e2f-9a70-bbea2e0e3684",
   "metadata": {},
   "outputs": [
    {
     "name": "stdout",
     "output_type": "stream",
     "text": [
      "Looking in indexes: https://pypi.org/simple, https://pypi.ngc.nvidia.com\n",
      "Collecting llama-index-graph-stores-neo4j\n",
      "  Obtaining dependency information for llama-index-graph-stores-neo4j from https://files.pythonhosted.org/packages/68/94/d11b4b5346110e4ea2b5a803f00e1ba9755fb2e370f839275f31aec0c3c9/llama_index_graph_stores_neo4j-0.2.0-py3-none-any.whl.metadata\n",
      "  Downloading llama_index_graph_stores_neo4j-0.2.0-py3-none-any.whl.metadata (646 bytes)\n",
      "Requirement already satisfied: llama-index-core<0.11.0,>=0.10.40 in /usr/local/lib/python3.10/dist-packages (from llama-index-graph-stores-neo4j) (0.10.40)\n",
      "Collecting neo4j<6.0.0,>=5.16.0 (from llama-index-graph-stores-neo4j)\n",
      "  Downloading neo4j-5.20.0.tar.gz (202 kB)\n",
      "\u001b[2K     \u001b[90m━━━━━━━━━━━━━━━━━━━━━━━━━━━━━━━━━━━━━━━\u001b[0m \u001b[32m203.0/203.0 kB\u001b[0m \u001b[31m6.1 MB/s\u001b[0m eta \u001b[36m0:00:00\u001b[0m\n",
      "\u001b[?25h  Installing build dependencies ... \u001b[?25ldone\n",
      "\u001b[?25h  Getting requirements to build wheel ... \u001b[?25ldone\n",
      "\u001b[?25h  Installing backend dependencies ... \u001b[?25ldone\n",
      "\u001b[?25h  Preparing metadata (pyproject.toml) ... \u001b[?25ldone\n",
      "\u001b[?25hRequirement already satisfied: PyYAML>=6.0.1 in /usr/local/lib/python3.10/dist-packages (from llama-index-core<0.11.0,>=0.10.40->llama-index-graph-stores-neo4j) (6.0.1)\n",
      "Requirement already satisfied: SQLAlchemy[asyncio]>=1.4.49 in /usr/local/lib/python3.10/dist-packages (from llama-index-core<0.11.0,>=0.10.40->llama-index-graph-stores-neo4j) (1.4.52)\n",
      "Requirement already satisfied: aiohttp<4.0.0,>=3.8.6 in /usr/local/lib/python3.10/dist-packages (from llama-index-core<0.11.0,>=0.10.40->llama-index-graph-stores-neo4j) (3.9.5)\n",
      "Requirement already satisfied: dataclasses-json in /usr/local/lib/python3.10/dist-packages (from llama-index-core<0.11.0,>=0.10.40->llama-index-graph-stores-neo4j) (0.6.4)\n",
      "Requirement already satisfied: deprecated>=1.2.9.3 in /usr/local/lib/python3.10/dist-packages (from llama-index-core<0.11.0,>=0.10.40->llama-index-graph-stores-neo4j) (1.2.14)\n",
      "Requirement already satisfied: dirtyjson<2.0.0,>=1.0.8 in /usr/local/lib/python3.10/dist-packages (from llama-index-core<0.11.0,>=0.10.40->llama-index-graph-stores-neo4j) (1.0.8)\n",
      "Requirement already satisfied: fsspec>=2023.5.0 in /usr/local/lib/python3.10/dist-packages (from llama-index-core<0.11.0,>=0.10.40->llama-index-graph-stores-neo4j) (2023.6.0)\n",
      "Requirement already satisfied: httpx in /usr/local/lib/python3.10/dist-packages (from llama-index-core<0.11.0,>=0.10.40->llama-index-graph-stores-neo4j) (0.26.0)\n",
      "Requirement already satisfied: llamaindex-py-client<0.2.0,>=0.1.18 in /usr/local/lib/python3.10/dist-packages (from llama-index-core<0.11.0,>=0.10.40->llama-index-graph-stores-neo4j) (0.1.19)\n",
      "Requirement already satisfied: nest-asyncio<2.0.0,>=1.5.8 in /usr/local/lib/python3.10/dist-packages (from llama-index-core<0.11.0,>=0.10.40->llama-index-graph-stores-neo4j) (1.6.0)\n",
      "Requirement already satisfied: networkx>=3.0 in /usr/local/lib/python3.10/dist-packages (from llama-index-core<0.11.0,>=0.10.40->llama-index-graph-stores-neo4j) (3.3)\n",
      "Requirement already satisfied: nltk<4.0.0,>=3.8.1 in /usr/local/lib/python3.10/dist-packages (from llama-index-core<0.11.0,>=0.10.40->llama-index-graph-stores-neo4j) (3.8.1)\n",
      "Requirement already satisfied: numpy in /usr/local/lib/python3.10/dist-packages (from llama-index-core<0.11.0,>=0.10.40->llama-index-graph-stores-neo4j) (1.26.3)\n",
      "Requirement already satisfied: openai>=1.1.0 in /usr/local/lib/python3.10/dist-packages (from llama-index-core<0.11.0,>=0.10.40->llama-index-graph-stores-neo4j) (1.30.4)\n",
      "Requirement already satisfied: pandas in /usr/local/lib/python3.10/dist-packages (from llama-index-core<0.11.0,>=0.10.40->llama-index-graph-stores-neo4j) (2.2.0)\n",
      "Requirement already satisfied: pillow>=9.0.0 in /usr/local/lib/python3.10/dist-packages (from llama-index-core<0.11.0,>=0.10.40->llama-index-graph-stores-neo4j) (9.2.0)\n",
      "Requirement already satisfied: requests>=2.31.0 in /usr/local/lib/python3.10/dist-packages (from llama-index-core<0.11.0,>=0.10.40->llama-index-graph-stores-neo4j) (2.31.0)\n",
      "Requirement already satisfied: tenacity<9.0.0,>=8.2.0 in /usr/local/lib/python3.10/dist-packages (from llama-index-core<0.11.0,>=0.10.40->llama-index-graph-stores-neo4j) (8.3.0)\n",
      "Requirement already satisfied: tiktoken>=0.3.3 in /usr/local/lib/python3.10/dist-packages (from llama-index-core<0.11.0,>=0.10.40->llama-index-graph-stores-neo4j) (0.7.0)\n",
      "Requirement already satisfied: tqdm<5.0.0,>=4.66.1 in /usr/local/lib/python3.10/dist-packages (from llama-index-core<0.11.0,>=0.10.40->llama-index-graph-stores-neo4j) (4.66.1)\n",
      "Requirement already satisfied: typing-extensions>=4.5.0 in /usr/local/lib/python3.10/dist-packages (from llama-index-core<0.11.0,>=0.10.40->llama-index-graph-stores-neo4j) (4.11.0)\n",
      "Requirement already satisfied: typing-inspect>=0.8.0 in /usr/local/lib/python3.10/dist-packages (from llama-index-core<0.11.0,>=0.10.40->llama-index-graph-stores-neo4j) (0.9.0)\n",
      "Requirement already satisfied: wrapt in /usr/local/lib/python3.10/dist-packages (from llama-index-core<0.11.0,>=0.10.40->llama-index-graph-stores-neo4j) (1.16.0)\n",
      "Requirement already satisfied: pytz in /usr/local/lib/python3.10/dist-packages (from neo4j<6.0.0,>=5.16.0->llama-index-graph-stores-neo4j) (2023.3)\n",
      "Requirement already satisfied: aiosignal>=1.1.2 in /usr/local/lib/python3.10/dist-packages (from aiohttp<4.0.0,>=3.8.6->llama-index-core<0.11.0,>=0.10.40->llama-index-graph-stores-neo4j) (1.3.1)\n",
      "Requirement already satisfied: attrs>=17.3.0 in /usr/local/lib/python3.10/dist-packages (from aiohttp<4.0.0,>=3.8.6->llama-index-core<0.11.0,>=0.10.40->llama-index-graph-stores-neo4j) (23.1.0)\n",
      "Requirement already satisfied: frozenlist>=1.1.1 in /usr/local/lib/python3.10/dist-packages (from aiohttp<4.0.0,>=3.8.6->llama-index-core<0.11.0,>=0.10.40->llama-index-graph-stores-neo4j) (1.4.0)\n",
      "Requirement already satisfied: multidict<7.0,>=4.5 in /usr/local/lib/python3.10/dist-packages (from aiohttp<4.0.0,>=3.8.6->llama-index-core<0.11.0,>=0.10.40->llama-index-graph-stores-neo4j) (6.0.4)\n",
      "Requirement already satisfied: yarl<2.0,>=1.0 in /usr/local/lib/python3.10/dist-packages (from aiohttp<4.0.0,>=3.8.6->llama-index-core<0.11.0,>=0.10.40->llama-index-graph-stores-neo4j) (1.9.2)\n",
      "Requirement already satisfied: async-timeout<5.0,>=4.0 in /usr/local/lib/python3.10/dist-packages (from aiohttp<4.0.0,>=3.8.6->llama-index-core<0.11.0,>=0.10.40->llama-index-graph-stores-neo4j) (4.0.3)\n",
      "Requirement already satisfied: pydantic>=1.10 in /usr/local/lib/python3.10/dist-packages (from llamaindex-py-client<0.2.0,>=0.1.18->llama-index-core<0.11.0,>=0.10.40->llama-index-graph-stores-neo4j) (1.10.12)\n",
      "Requirement already satisfied: anyio in /usr/local/lib/python3.10/dist-packages (from httpx->llama-index-core<0.11.0,>=0.10.40->llama-index-graph-stores-neo4j) (4.3.0)\n",
      "Requirement already satisfied: certifi in /usr/local/lib/python3.10/dist-packages (from httpx->llama-index-core<0.11.0,>=0.10.40->llama-index-graph-stores-neo4j) (2023.7.22)\n",
      "Requirement already satisfied: httpcore==1.* in /usr/local/lib/python3.10/dist-packages (from httpx->llama-index-core<0.11.0,>=0.10.40->llama-index-graph-stores-neo4j) (1.0.5)\n",
      "Requirement already satisfied: idna in /usr/local/lib/python3.10/dist-packages (from httpx->llama-index-core<0.11.0,>=0.10.40->llama-index-graph-stores-neo4j) (3.4)\n",
      "Requirement already satisfied: sniffio in /usr/local/lib/python3.10/dist-packages (from httpx->llama-index-core<0.11.0,>=0.10.40->llama-index-graph-stores-neo4j) (1.3.1)\n",
      "Requirement already satisfied: h11<0.15,>=0.13 in /usr/local/lib/python3.10/dist-packages (from httpcore==1.*->httpx->llama-index-core<0.11.0,>=0.10.40->llama-index-graph-stores-neo4j) (0.14.0)\n",
      "Requirement already satisfied: click in /usr/local/lib/python3.10/dist-packages (from nltk<4.0.0,>=3.8.1->llama-index-core<0.11.0,>=0.10.40->llama-index-graph-stores-neo4j) (8.1.6)\n",
      "Requirement already satisfied: joblib in /usr/local/lib/python3.10/dist-packages (from nltk<4.0.0,>=3.8.1->llama-index-core<0.11.0,>=0.10.40->llama-index-graph-stores-neo4j) (1.3.2)\n",
      "Requirement already satisfied: regex>=2021.8.3 in /usr/local/lib/python3.10/dist-packages (from nltk<4.0.0,>=3.8.1->llama-index-core<0.11.0,>=0.10.40->llama-index-graph-stores-neo4j) (2023.8.8)\n",
      "Requirement already satisfied: distro<2,>=1.7.0 in /usr/local/lib/python3.10/dist-packages (from openai>=1.1.0->llama-index-core<0.11.0,>=0.10.40->llama-index-graph-stores-neo4j) (1.9.0)\n",
      "Requirement already satisfied: charset-normalizer<4,>=2 in /usr/local/lib/python3.10/dist-packages (from requests>=2.31.0->llama-index-core<0.11.0,>=0.10.40->llama-index-graph-stores-neo4j) (3.2.0)\n",
      "Requirement already satisfied: urllib3<3,>=1.21.1 in /usr/local/lib/python3.10/dist-packages (from requests>=2.31.0->llama-index-core<0.11.0,>=0.10.40->llama-index-graph-stores-neo4j) (1.26.16)\n",
      "Requirement already satisfied: greenlet!=0.4.17 in /usr/local/lib/python3.10/dist-packages (from SQLAlchemy[asyncio]>=1.4.49->llama-index-core<0.11.0,>=0.10.40->llama-index-graph-stores-neo4j) (3.0.3)\n",
      "Requirement already satisfied: mypy-extensions>=0.3.0 in /usr/local/lib/python3.10/dist-packages (from typing-inspect>=0.8.0->llama-index-core<0.11.0,>=0.10.40->llama-index-graph-stores-neo4j) (1.0.0)\n",
      "Requirement already satisfied: marshmallow<4.0.0,>=3.18.0 in /usr/local/lib/python3.10/dist-packages (from dataclasses-json->llama-index-core<0.11.0,>=0.10.40->llama-index-graph-stores-neo4j) (3.21.1)\n",
      "Requirement already satisfied: python-dateutil>=2.8.2 in /usr/local/lib/python3.10/dist-packages (from pandas->llama-index-core<0.11.0,>=0.10.40->llama-index-graph-stores-neo4j) (2.8.2)\n",
      "Requirement already satisfied: tzdata>=2022.7 in /usr/local/lib/python3.10/dist-packages (from pandas->llama-index-core<0.11.0,>=0.10.40->llama-index-graph-stores-neo4j) (2024.1)\n",
      "Requirement already satisfied: exceptiongroup>=1.0.2 in /usr/local/lib/python3.10/dist-packages (from anyio->httpx->llama-index-core<0.11.0,>=0.10.40->llama-index-graph-stores-neo4j) (1.1.3)\n",
      "Requirement already satisfied: packaging>=17.0 in /usr/local/lib/python3.10/dist-packages (from marshmallow<4.0.0,>=3.18.0->dataclasses-json->llama-index-core<0.11.0,>=0.10.40->llama-index-graph-stores-neo4j) (23.1)\n",
      "Requirement already satisfied: six>=1.5 in /usr/local/lib/python3.10/dist-packages (from python-dateutil>=2.8.2->pandas->llama-index-core<0.11.0,>=0.10.40->llama-index-graph-stores-neo4j) (1.16.0)\n",
      "Downloading llama_index_graph_stores_neo4j-0.2.0-py3-none-any.whl (11 kB)\n",
      "Building wheels for collected packages: neo4j\n",
      "  Building wheel for neo4j (pyproject.toml) ... \u001b[?25ldone\n",
      "\u001b[?25h  Created wheel for neo4j: filename=neo4j-5.20.0-py3-none-any.whl size=280784 sha256=b85a92d0a13a1df5ed2e9524beda5fb544ae1c37b0213c55f9a37c2ebc7695d1\n",
      "  Stored in directory: /tmp/pip-ephem-wheel-cache-7pranofd/wheels/cb/12/66/764554d079caad4b9a11a02cfc0d200dd876d12935b9cf7e64\n",
      "Successfully built neo4j\n",
      "Installing collected packages: neo4j, llama-index-graph-stores-neo4j\n",
      "Successfully installed llama-index-graph-stores-neo4j-0.2.0 neo4j-5.20.0\n",
      "\u001b[33mWARNING: Running pip as the 'root' user can result in broken permissions and conflicting behaviour with the system package manager. It is recommended to use a virtual environment instead: https://pip.pypa.io/warnings/venv\u001b[0m\u001b[33m\n",
      "\u001b[0m\n",
      "\u001b[1m[\u001b[0m\u001b[34;49mnotice\u001b[0m\u001b[1;39;49m]\u001b[0m\u001b[39;49m A new release of pip is available: \u001b[0m\u001b[31;49m23.2.1\u001b[0m\u001b[39;49m -> \u001b[0m\u001b[32;49m24.0\u001b[0m\n",
      "\u001b[1m[\u001b[0m\u001b[34;49mnotice\u001b[0m\u001b[1;39;49m]\u001b[0m\u001b[39;49m To update, run: \u001b[0m\u001b[32;49mpython -m pip install --upgrade pip\u001b[0m\n",
      "Note: you may need to restart the kernel to use updated packages.\n"
     ]
    }
   ],
   "source": [
    "%pip install llama-index-graph-stores-neo4j"
   ]
  },
  {
   "cell_type": "code",
   "execution_count": 7,
   "id": "a598df04-0cee-48df-a4eb-b36d543a97a0",
   "metadata": {},
   "outputs": [],
   "source": [
    "\n",
    "from llama_index.graph_stores.neo4j import Neo4jGraphStore\n",
    "from llama_index.core import StorageContext\n",
    "\n",
    "url = \"<NEO4j_URL>\"\n",
    "username = \"neo4j\"\n",
    "password = \"<NEO4j_PW>\"\n",
    "\n",
    "graph = Neo4jGraphStore(url=url, username=username, password=password)\n",
    "storage_context = StorageContext.from_defaults(graph_store=graph)"
   ]
  },
  {
   "cell_type": "code",
   "execution_count": 203,
   "id": "cc7d2c65-9265-4a3f-8550-12fc8898062a",
   "metadata": {},
   "outputs": [
    {
     "name": "stdout",
     "output_type": "stream",
     "text": [
      "INFO:httpx:HTTP Request: POST https://api.openai.com/v1/chat/completions \"HTTP/1.1 200 OK\"\n",
      "INFO:httpx:HTTP Request: POST https://api.openai.com/v1/chat/completions \"HTTP/1.1 200 OK\"\n",
      "INFO:httpx:HTTP Request: POST https://api.openai.com/v1/chat/completions \"HTTP/1.1 200 OK\"\n",
      "INFO:httpx:HTTP Request: POST https://api.openai.com/v1/chat/completions \"HTTP/1.1 200 OK\"\n",
      "INFO:httpx:HTTP Request: POST https://api.openai.com/v1/chat/completions \"HTTP/1.1 200 OK\"\n",
      "INFO:httpx:HTTP Request: POST https://api.openai.com/v1/chat/completions \"HTTP/1.1 200 OK\"\n",
      "INFO:httpx:HTTP Request: POST https://api.openai.com/v1/chat/completions \"HTTP/1.1 200 OK\"\n",
      "INFO:httpx:HTTP Request: POST https://api.openai.com/v1/chat/completions \"HTTP/1.1 200 OK\"\n",
      "INFO:httpx:HTTP Request: POST https://api.openai.com/v1/chat/completions \"HTTP/1.1 200 OK\"\n",
      "INFO:httpx:HTTP Request: POST https://api.openai.com/v1/chat/completions \"HTTP/1.1 200 OK\"\n",
      "INFO:httpx:HTTP Request: POST https://api.openai.com/v1/chat/completions \"HTTP/1.1 200 OK\"\n",
      "INFO:httpx:HTTP Request: POST https://api.openai.com/v1/chat/completions \"HTTP/1.1 200 OK\"\n",
      "INFO:httpx:HTTP Request: POST https://api.openai.com/v1/chat/completions \"HTTP/1.1 200 OK\"\n",
      "INFO:httpx:HTTP Request: POST https://api.openai.com/v1/chat/completions \"HTTP/1.1 200 OK\"\n",
      "INFO:httpx:HTTP Request: POST https://api.openai.com/v1/chat/completions \"HTTP/1.1 200 OK\"\n",
      "INFO:httpx:HTTP Request: POST https://api.openai.com/v1/chat/completions \"HTTP/1.1 200 OK\"\n",
      "INFO:httpx:HTTP Request: POST https://api.openai.com/v1/chat/completions \"HTTP/1.1 200 OK\"\n",
      "INFO:httpx:HTTP Request: POST https://api.openai.com/v1/chat/completions \"HTTP/1.1 200 OK\"\n",
      "INFO:httpx:HTTP Request: POST https://api.openai.com/v1/chat/completions \"HTTP/1.1 200 OK\"\n",
      "INFO:httpx:HTTP Request: POST https://api.openai.com/v1/chat/completions \"HTTP/1.1 200 OK\"\n",
      "INFO:httpx:HTTP Request: POST https://api.openai.com/v1/chat/completions \"HTTP/1.1 200 OK\"\n",
      "INFO:httpx:HTTP Request: POST https://api.openai.com/v1/chat/completions \"HTTP/1.1 200 OK\"\n",
      "INFO:httpx:HTTP Request: POST https://api.openai.com/v1/chat/completions \"HTTP/1.1 200 OK\"\n",
      "INFO:httpx:HTTP Request: POST https://api.openai.com/v1/chat/completions \"HTTP/1.1 200 OK\"\n",
      "INFO:httpx:HTTP Request: POST https://api.openai.com/v1/chat/completions \"HTTP/1.1 200 OK\"\n",
      "INFO:httpx:HTTP Request: POST https://api.openai.com/v1/chat/completions \"HTTP/1.1 200 OK\"\n",
      "INFO:httpx:HTTP Request: POST https://api.openai.com/v1/chat/completions \"HTTP/1.1 200 OK\"\n",
      "INFO:httpx:HTTP Request: POST https://api.openai.com/v1/chat/completions \"HTTP/1.1 200 OK\"\n",
      "INFO:httpx:HTTP Request: POST https://api.openai.com/v1/chat/completions \"HTTP/1.1 200 OK\"\n",
      "INFO:httpx:HTTP Request: POST https://api.openai.com/v1/chat/completions \"HTTP/1.1 200 OK\"\n",
      "INFO:httpx:HTTP Request: POST https://api.openai.com/v1/chat/completions \"HTTP/1.1 200 OK\"\n",
      "INFO:httpx:HTTP Request: POST https://api.openai.com/v1/chat/completions \"HTTP/1.1 200 OK\"\n",
      "INFO:httpx:HTTP Request: POST https://api.openai.com/v1/chat/completions \"HTTP/1.1 200 OK\"\n",
      "INFO:httpx:HTTP Request: POST https://api.openai.com/v1/chat/completions \"HTTP/1.1 200 OK\"\n",
      "INFO:httpx:HTTP Request: POST https://api.openai.com/v1/chat/completions \"HTTP/1.1 200 OK\"\n",
      "INFO:httpx:HTTP Request: POST https://api.openai.com/v1/chat/completions \"HTTP/1.1 200 OK\"\n",
      "INFO:httpx:HTTP Request: POST https://api.openai.com/v1/chat/completions \"HTTP/1.1 200 OK\"\n",
      "INFO:httpx:HTTP Request: POST https://api.openai.com/v1/chat/completions \"HTTP/1.1 200 OK\"\n",
      "INFO:httpx:HTTP Request: POST https://api.openai.com/v1/chat/completions \"HTTP/1.1 200 OK\"\n",
      "INFO:httpx:HTTP Request: POST https://api.openai.com/v1/chat/completions \"HTTP/1.1 200 OK\"\n",
      "INFO:httpx:HTTP Request: POST https://api.openai.com/v1/chat/completions \"HTTP/1.1 200 OK\"\n"
     ]
    }
   ],
   "source": [
    "from llama_index.core import KnowledgeGraphIndex\n",
    "from llama_index.core import StorageContext\n",
    "\n",
    "storage_context = StorageContext.from_defaults(graph_store=graph)\n",
    "\n",
    "# NOTE: can take a while!\n",
    "index = KnowledgeGraphIndex.from_documents(\n",
    "    documents,\n",
    "    storage_context=storage_context,\n",
    "    max_triplets_per_chunk=5,\n",
    "    graph_store=graph,\n",
    ")"
   ]
  },
  {
   "cell_type": "code",
   "execution_count": 204,
   "id": "39250380-55f6-41d8-a273-3c0a63053866",
   "metadata": {},
   "outputs": [
    {
     "data": {
      "text/plain": [
       "[{'n1': {'id': 'Taylor alison swift'},\n",
       "  'r': ({'id': 'Taylor alison swift'},\n",
       "   'IS_NAMED_AFTER',\n",
       "   {'id': 'James taylor'}),\n",
       "  'n2': {'id': 'James taylor'}},\n",
       " {'n1': {'id': 'Taylor alison swift'},\n",
       "  'r': ({'id': 'Taylor alison swift'},\n",
       "   'FATHER_IS',\n",
       "   {'id': 'Scott kingsley swift'}),\n",
       "  'n2': {'id': 'Scott kingsley swift'}},\n",
       " {'n1': {'id': 'Taylor alison swift'},\n",
       "  'r': ({'id': 'Taylor alison swift'},\n",
       "   'MOTHER_IS',\n",
       "   {'id': 'Andrea gardner swift'}),\n",
       "  'n2': {'id': 'Andrea gardner swift'}},\n",
       " {'n1': {'id': 'Taylor alison swift'},\n",
       "  'r': ({'id': 'Taylor alison swift'},\n",
       "   'SPENT_EARLY_YEARS_ON',\n",
       "   {'id': 'Christmas tree farm'}),\n",
       "  'n2': {'id': 'Christmas tree farm'}},\n",
       " {'n1': {'id': 'Taylor alison swift'},\n",
       "  'r': ({'id': 'Taylor alison swift'},\n",
       "   'HAS_FATHER',\n",
       "   {'id': 'Scott kingsley swift'}),\n",
       "  'n2': {'id': 'Scott kingsley swift'}},\n",
       " {'n1': {'id': 'Taylor alison swift'},\n",
       "  'r': ({'id': 'Taylor alison swift'},\n",
       "   'HAS_MOTHER',\n",
       "   {'id': 'Andrea gardner swift'}),\n",
       "  'n2': {'id': 'Andrea gardner swift'}},\n",
       " {'n1': {'id': 'Taylor alison swift'},\n",
       "  'r': ({'id': 'Taylor alison swift'}, 'HAS_BROTHER', {'id': 'Austin'}),\n",
       "  'n2': {'id': 'Austin'}},\n",
       " {'n1': {'id': 'Swift'},\n",
       "  'r': ({'id': 'Swift'}, 'IS', {'id': 'Most-streamed act on spotify'}),\n",
       "  'n2': {'id': 'Most-streamed act on spotify'}},\n",
       " {'n1': {'id': 'Swift'},\n",
       "  'r': ({'id': 'Swift'},\n",
       "   'IS',\n",
       "   {'id': 'First woman to simultaneously chart five albums in the top 10'}),\n",
       "  'n2': {'id': 'First woman to simultaneously chart five albums in the top 10'}},\n",
       " {'n1': {'id': 'Swift'},\n",
       "  'r': ({'id': 'Swift'},\n",
       "   'IS',\n",
       "   {'id': 'Second highest-certified female digital singles artist'}),\n",
       "  'n2': {'id': 'Second highest-certified female digital singles artist'}}]"
      ]
     },
     "execution_count": 204,
     "metadata": {},
     "output_type": "execute_result"
    }
   ],
   "source": [
    "# We can look at the graph created\n",
    "graph.query(\"MATCH (n1)-[r]->(n2) RETURN n1, r, n2 LIMIT 10 \")"
   ]
  },
  {
   "cell_type": "code",
   "execution_count": 205,
   "id": "84127a71-dab2-4ccb-9346-d54e8fff266e",
   "metadata": {},
   "outputs": [
    {
     "data": {
      "text/plain": [
       "'Node properties are the following:\\nEntity {id: STRING}\\nRelationship properties are the following:\\n\\nThe relationships are the following:\\n(:Entity)-[:IS_NAMED_AFTER]->(:Entity),(:Entity)-[:FATHER_IS]->(:Entity),(:Entity)-[:MOTHER_IS]->(:Entity),(:Entity)-[:HAS_FATHER]->(:Entity),(:Entity)-[:HAS_MOTHER]->(:Entity),(:Entity)-[:HAS_BROTHER]->(:Entity),(:Entity)-[:SPENT_EARLY_YEARS_ON]->(:Entity),(:Entity)-[:IS]->(:Entity),(:Entity)-[:IS_ESTIMATED_BY]->(:Entity),(:Entity)-[:DONATED_$4_MILLION_TO]->(:Entity),(:Entity)-[:EMPLOYED]->(:Entity),(:Entity)-[:GAVE]->(:Entity),(:Entity)-[:WANTED_TO_CAPTURE]->(:Entity),(:Entity)-[:RE-RECORDING]->(:Entity),(:Entity)-[:BEGAN_RE-RECORDING]->(:Entity),(:Entity)-[:PROCLAIMED_AS]->(:Entity),(:Entity)-[:DEVELOPED]->(:Entity),(:Entity)-[:CREATED]->(:Entity),(:Entity)-[:ANNOUNCED]->(:Entity),(:Entity)-[:BLENDED]->(:Entity),(:Entity)-[:CHOSE]->(:Entity),(:Entity)-[:FASCINATION_WITH]->(:Entity),(:Entity)-[:RECEIVED]->(:Entity),(:Entity)-[:LYRICAL_INFLUENCES_INCLUDE]->(:Entity),(:Entity)-[:CONFESSIONAL_LYRICS_RECEIVED]->(:Entity),(:Entity)-[:DEBUTED_AS]->(:Entity),(:Entity)-[:INCLUDED_ON]->(:Entity),(:Entity)-[:FIRST_WOMAN_TO]->(:Entity),(:Entity)-[:ENDORSED]->(:Entity),(:Entity)-[:ENCOURAGED]->(:Entity),(:Entity)-[:REFERRED_TO_AS]->(:Entity),(:Entity)-[:PARTICIPATED_IN]->(:Entity),(:Entity)-[:WROTE]->(:Entity),(:Entity)-[:WAS]->(:Entity),(:Entity)-[:HAS]->(:Entity),(:Entity)-[:CRITICIZED]->(:Entity),(:Entity)-[:WORKED_WITH]->(:Entity),(:Entity)-[:LEFT]->(:Entity),(:Entity)-[:WON]->(:Entity),(:Entity)-[:RELEASED]->(:Entity),(:Entity)-[:FEATURED_ON]->(:Entity),(:Entity)-[:PERFORMED]->(:Entity),(:Entity)-[:CONTINUED_WRITING]->(:Entity),(:Entity)-[:DATED]->(:Entity),(:Entity)-[:SIGNED]->(:Entity),(:Entity)-[:DATING]->(:Entity),(:Entity)-[:REINVENTED_WITH]->(:Entity),(:Entity)-[:EMBRACED]->(:Entity),(:Entity)-[:POSSESSES]->(:Entity),(:Entity)-[:ADMITTED]->(:Entity),(:Entity)-[:IDENTIFIES_AS]->(:Entity),(:Entity)-[:WELCOMED]->(:Entity),(:Entity)-[:AWARDED_WITH]->(:Entity),(:Entity)-[:PRAISED_FOR]->(:Entity),(:Entity)-[:EMPHASIZES]->(:Entity),(:Entity)-[:COLLABORATED_WITH]->(:Entity),(:Entity)-[:HAS_WON]->(:Entity),(:Entity)-[:TOPPED]->(:Entity),(:Entity)-[:CREDITED_WITH]->(:Entity),(:Entity)-[:ACCUSED_OF]->(:Entity),(:Entity)-[:SHAPED]->(:Entity),(:Entity)-[:ACHIEVED]->(:Entity),(:Entity)-[:DONATED]->(:Entity),(:Entity)-[:SUPPORTER_OF]->(:Entity),(:Entity)-[:DONATED_TO]->(:Entity),(:Entity)-[:EARNED]->(:Entity),(:Entity)-[:EXPLORED]->(:Entity),(:Entity)-[:CO-WROTE]->(:Entity),(:Entity)-[:MADE]->(:Entity),(:Entity)-[:NAMED]->(:Entity),(:Entity)-[:HONORED_WITH]->(:Entity),(:Entity)-[:KNOWN_FOR]->(:Entity),(:Entity)-[:DOMINATES]->(:Entity),(:Entity)-[:CALLED]->(:Entity),(:Entity)-[:EXPERIMENTED_WITH]->(:Entity),(:Entity)-[:TRAVELED_TO]->(:Entity),(:Entity)-[:STARTED_LEARNING]->(:Entity),(:Entity)-[:BECAME]->(:Entity),(:Entity)-[:CAUGHT]->(:Entity),(:Entity)-[:WAS_NAMED]->(:Entity),(:Entity)-[:INCLUDED]->(:Entity),(:Entity)-[:BEGAN_LIVING_IN]->(:Entity),(:Entity)-[:PRODUCED]->(:Entity),(:Entity)-[:REMOVED]->(:Entity),(:Entity)-[:RECORDED]->(:Entity),(:Entity)-[:COUNTERSUED]->(:Entity),(:Entity)-[:BECAME_EMBROILED_IN]->(:Entity),(:Entity)-[:SURPRISE-RELEASED]->(:Entity),(:Entity)-[:PLAYED]->(:Entity),(:Entity)-[:PREMIERED]->(:Entity),(:Entity)-[:SOLD]->(:Entity),(:Entity)-[:ACCOMPANIES]->(:Entity),(:Entity)-[:HAD]->(:Entity),(:Entity)-[:INCORPORATED]->(:Entity),(:Entity)-[:RANKED]->(:Entity),(:Entity)-[:DIVIDES]->(:Entity),(:Entity)-[:AWARDED]->(:Entity),(:Entity)-[:NOTED_AS]->(:Entity),(:Entity)-[:COMMANDS]->(:Entity),(:Entity)-[:CITED]->(:Entity),(:Entity)-[:REMAINS]->(:Entity),(:Entity)-[:KNOWN_AS]->(:Entity),(:Entity)-[:PURCHASED]->(:Entity),(:Entity)-[:EXTENDED_SUCCESS_BEYOND]->(:Entity),(:Entity)-[:PIONEERED_USE_OF]->(:Entity),(:Entity)-[:INTRODUCED_GENRE_TO]->(:Entity),(:Entity)-[:CHANGED]->(:Entity),(:Entity)-[:MAINTAINS]->(:Entity),(:Entity)-[:BEGAN_MEETING_FOR]->(:Entity),(:Entity)-[:SPENT]->(:Entity),(:Entity)-[:OPENED_AT]->(:Entity),(:Entity)-[:PEAKED_ATOP]->(:Entity),(:Entity)-[:INCORPORATES]->(:Entity),(:Entity)-[:TOPPED_THE_CHARTS_IN]->(:Entity),(:Entity)-[:COMMENTED]->(:Entity)'"
      ]
     },
     "execution_count": 205,
     "metadata": {},
     "output_type": "execute_result"
    }
   ],
   "source": [
    "graph.refresh_schema()\n",
    "graph.schema"
   ]
  },
  {
   "cell_type": "code",
   "execution_count": 83,
   "id": "9825aa21-ccb7-4196-bf0e-4238c0053c08",
   "metadata": {},
   "outputs": [],
   "source": [
    "# Query knowledge graph\n",
    "from llama_index.core.query_engine import KnowledgeGraphQueryEngine\n",
    "from llama_index.core.prompts.base import (\n",
    "    BasePromptTemplate,\n",
    "    PromptTemplate,\n",
    "    PromptType,\n",
    ")\n",
    "DEFAULT_NEO4J_NL2CYPHER_PROMPT_TMPL = (\n",
    "    \"Task:Generate Cypher statement to query a graph database.\\n\"\n",
    "    \"Instructions:\\n\"\n",
    "    \"Use only the provided relationship types and properties in the schema.\\n\"\n",
    "    \"Do not use any other relationship types or properties that are not provided.\\n\"\n",
    "    \"Schema:\\n\"\n",
    "    \"{schema}\\n\"\n",
    "    \"Note: Do not include any explanations or apologies in your responses.\\n\"\n",
    "    \"Do not respond to any questions that might ask anything else than for you \"\n",
    "    \"to construct a Cypher statement. \\n\"\n",
    "    \"Do not include any text except the generated Cypher statement.\\n\"\n",
    "    \"\\n\"\n",
    "    \"The question is:\\n\"\n",
    "    \"{query_str}\\n\"\n",
    ")\n",
    "\n",
    "DEFAULT_NEO4J_NL2CYPHER_PROMPT = PromptTemplate(\n",
    "    DEFAULT_NEO4J_NL2CYPHER_PROMPT_TMPL,\n",
    "    prompt_type=PromptType.TEXT_TO_GRAPH_QUERY,\n",
    ")\n",
    "\n",
    "graph_query_engine = KnowledgeGraphQueryEngine(\n",
    "    storage_context=storage_context,\n",
    "    llm=Settings.llm,\n",
    "    verbose=True,\n",
    "    graph_query_synthesis_prompt=DEFAULT_NEO4J_NL2CYPHER_PROMPT,\n",
    "\n",
    ")\n"
   ]
  },
  {
   "cell_type": "code",
   "execution_count": 225,
   "id": "34878ede-5221-4f05-9520-d862cad469a9",
   "metadata": {},
   "outputs": [
    {
     "name": "stdout",
     "output_type": "stream",
     "text": [
      "INFO:httpx:HTTP Request: POST https://api.openai.com/v1/chat/completions \"HTTP/1.1 200 OK\"\n",
      "\u001b[1;3;33mGraph Store Query:\n",
      "MATCH (n:Entity)-[:IS_NAMED_AFTER]->(m:Entity)\n",
      "WHERE n.id = 'Taylor alison swift'\n",
      "RETURN m;\n",
      "\u001b[0m\u001b[1;3;33mGraph Store Response:\n",
      "[{'m': {'id': 'James taylor'}}]\n",
      "\u001b[0mINFO:httpx:HTTP Request: POST https://api.openai.com/v1/chat/completions \"HTTP/1.1 200 OK\"\n",
      "\u001b[1;3;32mFinal Response: Taylor Alison Swift is named after James Taylor.\n",
      "\u001b[0m"
     ]
    },
    {
     "data": {
      "text/plain": [
       "Response(response='Taylor Alison Swift is named after James Taylor.', source_nodes=[NodeWithScore(node=TextNode(id_='74bf751f-4215-4537-96cb-1bdc0e3180bf', embedding=None, metadata={'query_str': 'Who is Taylor alison swift named after', 'graph_store_query': \"MATCH (n:Entity)-[:IS_NAMED_AFTER]->(m:Entity)\\nWHERE n.id = 'Taylor alison swift'\\nRETURN m;\", 'graph_store_response': [{'m': {'id': 'James taylor'}}], 'graph_schema': 'Node properties are the following:\\nEntity {id: STRING}\\nRelationship properties are the following:\\n\\nThe relationships are the following:\\n(:Entity)-[:IS_NAMED_AFTER]->(:Entity),(:Entity)-[:FATHER_IS]->(:Entity),(:Entity)-[:MOTHER_IS]->(:Entity),(:Entity)-[:HAS_FATHER]->(:Entity),(:Entity)-[:HAS_MOTHER]->(:Entity),(:Entity)-[:HAS_BROTHER]->(:Entity),(:Entity)-[:SPENT_EARLY_YEARS_ON]->(:Entity),(:Entity)-[:IS]->(:Entity),(:Entity)-[:IS_ESTIMATED_BY]->(:Entity),(:Entity)-[:DONATED_$4_MILLION_TO]->(:Entity),(:Entity)-[:EMPLOYED]->(:Entity),(:Entity)-[:GAVE]->(:Entity),(:Entity)-[:WANTED_TO_CAPTURE]->(:Entity),(:Entity)-[:RE-RECORDING]->(:Entity),(:Entity)-[:BEGAN_RE-RECORDING]->(:Entity),(:Entity)-[:PROCLAIMED_AS]->(:Entity),(:Entity)-[:DEVELOPED]->(:Entity),(:Entity)-[:CREATED]->(:Entity),(:Entity)-[:ANNOUNCED]->(:Entity),(:Entity)-[:BLENDED]->(:Entity),(:Entity)-[:CHOSE]->(:Entity),(:Entity)-[:FASCINATION_WITH]->(:Entity),(:Entity)-[:RECEIVED]->(:Entity),(:Entity)-[:LYRICAL_INFLUENCES_INCLUDE]->(:Entity),(:Entity)-[:CONFESSIONAL_LYRICS_RECEIVED]->(:Entity),(:Entity)-[:DEBUTED_AS]->(:Entity),(:Entity)-[:INCLUDED_ON]->(:Entity),(:Entity)-[:FIRST_WOMAN_TO]->(:Entity),(:Entity)-[:ENDORSED]->(:Entity),(:Entity)-[:ENCOURAGED]->(:Entity),(:Entity)-[:REFERRED_TO_AS]->(:Entity),(:Entity)-[:PARTICIPATED_IN]->(:Entity),(:Entity)-[:WROTE]->(:Entity),(:Entity)-[:WAS]->(:Entity),(:Entity)-[:HAS]->(:Entity),(:Entity)-[:CRITICIZED]->(:Entity),(:Entity)-[:WORKED_WITH]->(:Entity),(:Entity)-[:LEFT]->(:Entity),(:Entity)-[:WON]->(:Entity),(:Entity)-[:RELEASED]->(:Entity),(:Entity)-[:FEATURED_ON]->(:Entity),(:Entity)-[:PERFORMED]->(:Entity),(:Entity)-[:CONTINUED_WRITING]->(:Entity),(:Entity)-[:DATED]->(:Entity),(:Entity)-[:SIGNED]->(:Entity),(:Entity)-[:DATING]->(:Entity),(:Entity)-[:REINVENTED_WITH]->(:Entity),(:Entity)-[:EMBRACED]->(:Entity),(:Entity)-[:POSSESSES]->(:Entity),(:Entity)-[:ADMITTED]->(:Entity),(:Entity)-[:IDENTIFIES_AS]->(:Entity),(:Entity)-[:WELCOMED]->(:Entity),(:Entity)-[:AWARDED_WITH]->(:Entity),(:Entity)-[:PRAISED_FOR]->(:Entity),(:Entity)-[:EMPHASIZES]->(:Entity),(:Entity)-[:COLLABORATED_WITH]->(:Entity),(:Entity)-[:HAS_WON]->(:Entity),(:Entity)-[:TOPPED]->(:Entity),(:Entity)-[:CREDITED_WITH]->(:Entity),(:Entity)-[:ACCUSED_OF]->(:Entity),(:Entity)-[:SHAPED]->(:Entity),(:Entity)-[:ACHIEVED]->(:Entity),(:Entity)-[:DONATED]->(:Entity),(:Entity)-[:SUPPORTER_OF]->(:Entity),(:Entity)-[:DONATED_TO]->(:Entity),(:Entity)-[:EARNED]->(:Entity),(:Entity)-[:EXPLORED]->(:Entity),(:Entity)-[:CO-WROTE]->(:Entity),(:Entity)-[:MADE]->(:Entity),(:Entity)-[:NAMED]->(:Entity),(:Entity)-[:HONORED_WITH]->(:Entity),(:Entity)-[:KNOWN_FOR]->(:Entity),(:Entity)-[:DOMINATES]->(:Entity),(:Entity)-[:CALLED]->(:Entity),(:Entity)-[:EXPERIMENTED_WITH]->(:Entity),(:Entity)-[:TRAVELED_TO]->(:Entity),(:Entity)-[:STARTED_LEARNING]->(:Entity),(:Entity)-[:BECAME]->(:Entity),(:Entity)-[:CAUGHT]->(:Entity),(:Entity)-[:WAS_NAMED]->(:Entity),(:Entity)-[:INCLUDED]->(:Entity),(:Entity)-[:BEGAN_LIVING_IN]->(:Entity),(:Entity)-[:PRODUCED]->(:Entity),(:Entity)-[:REMOVED]->(:Entity),(:Entity)-[:RECORDED]->(:Entity),(:Entity)-[:COUNTERSUED]->(:Entity),(:Entity)-[:BECAME_EMBROILED_IN]->(:Entity),(:Entity)-[:SURPRISE-RELEASED]->(:Entity),(:Entity)-[:PLAYED]->(:Entity),(:Entity)-[:PREMIERED]->(:Entity),(:Entity)-[:SOLD]->(:Entity),(:Entity)-[:ACCOMPANIES]->(:Entity),(:Entity)-[:HAD]->(:Entity),(:Entity)-[:INCORPORATED]->(:Entity),(:Entity)-[:RANKED]->(:Entity),(:Entity)-[:DIVIDES]->(:Entity),(:Entity)-[:AWARDED]->(:Entity),(:Entity)-[:NOTED_AS]->(:Entity),(:Entity)-[:COMMANDS]->(:Entity),(:Entity)-[:CITED]->(:Entity),(:Entity)-[:REMAINS]->(:Entity),(:Entity)-[:KNOWN_AS]->(:Entity),(:Entity)-[:PURCHASED]->(:Entity),(:Entity)-[:EXTENDED_SUCCESS_BEYOND]->(:Entity),(:Entity)-[:PIONEERED_USE_OF]->(:Entity),(:Entity)-[:INTRODUCED_GENRE_TO]->(:Entity),(:Entity)-[:CHANGED]->(:Entity),(:Entity)-[:MAINTAINS]->(:Entity),(:Entity)-[:BEGAN_MEETING_FOR]->(:Entity),(:Entity)-[:SPENT]->(:Entity),(:Entity)-[:OPENED_AT]->(:Entity),(:Entity)-[:PEAKED_ATOP]->(:Entity),(:Entity)-[:INCORPORATES]->(:Entity),(:Entity)-[:TOPPED_THE_CHARTS_IN]->(:Entity),(:Entity)-[:COMMENTED]->(:Entity)'}, excluded_embed_metadata_keys=[], excluded_llm_metadata_keys=[], relationships={}, text=\"\\nThe original question is given below.\\nThis question has been translated into a Graph Database query.\\nBoth the Graph query and the response are given below.\\nGiven the Graph Query response, synthesise a response to the original question.\\n\\nOriginal question: Who is Taylor alison swift named after\\nGraph query: MATCH (n:Entity)-[:IS_NAMED_AFTER]->(m:Entity)\\nWHERE n.id = 'Taylor alison swift'\\nRETURN m;\\nGraph response: [{'m': {'id': 'James taylor'}}]\\nResponse:\\n\", start_char_idx=None, end_char_idx=None, text_template='{metadata_str}\\n\\n{content}', metadata_template='{key}: {value}', metadata_seperator='\\n'), score=1.0)], metadata={'74bf751f-4215-4537-96cb-1bdc0e3180bf': {'query_str': 'Who is Taylor alison swift named after', 'graph_store_query': \"MATCH (n:Entity)-[:IS_NAMED_AFTER]->(m:Entity)\\nWHERE n.id = 'Taylor alison swift'\\nRETURN m;\", 'graph_store_response': [{'m': {'id': 'James taylor'}}], 'graph_schema': 'Node properties are the following:\\nEntity {id: STRING}\\nRelationship properties are the following:\\n\\nThe relationships are the following:\\n(:Entity)-[:IS_NAMED_AFTER]->(:Entity),(:Entity)-[:FATHER_IS]->(:Entity),(:Entity)-[:MOTHER_IS]->(:Entity),(:Entity)-[:HAS_FATHER]->(:Entity),(:Entity)-[:HAS_MOTHER]->(:Entity),(:Entity)-[:HAS_BROTHER]->(:Entity),(:Entity)-[:SPENT_EARLY_YEARS_ON]->(:Entity),(:Entity)-[:IS]->(:Entity),(:Entity)-[:IS_ESTIMATED_BY]->(:Entity),(:Entity)-[:DONATED_$4_MILLION_TO]->(:Entity),(:Entity)-[:EMPLOYED]->(:Entity),(:Entity)-[:GAVE]->(:Entity),(:Entity)-[:WANTED_TO_CAPTURE]->(:Entity),(:Entity)-[:RE-RECORDING]->(:Entity),(:Entity)-[:BEGAN_RE-RECORDING]->(:Entity),(:Entity)-[:PROCLAIMED_AS]->(:Entity),(:Entity)-[:DEVELOPED]->(:Entity),(:Entity)-[:CREATED]->(:Entity),(:Entity)-[:ANNOUNCED]->(:Entity),(:Entity)-[:BLENDED]->(:Entity),(:Entity)-[:CHOSE]->(:Entity),(:Entity)-[:FASCINATION_WITH]->(:Entity),(:Entity)-[:RECEIVED]->(:Entity),(:Entity)-[:LYRICAL_INFLUENCES_INCLUDE]->(:Entity),(:Entity)-[:CONFESSIONAL_LYRICS_RECEIVED]->(:Entity),(:Entity)-[:DEBUTED_AS]->(:Entity),(:Entity)-[:INCLUDED_ON]->(:Entity),(:Entity)-[:FIRST_WOMAN_TO]->(:Entity),(:Entity)-[:ENDORSED]->(:Entity),(:Entity)-[:ENCOURAGED]->(:Entity),(:Entity)-[:REFERRED_TO_AS]->(:Entity),(:Entity)-[:PARTICIPATED_IN]->(:Entity),(:Entity)-[:WROTE]->(:Entity),(:Entity)-[:WAS]->(:Entity),(:Entity)-[:HAS]->(:Entity),(:Entity)-[:CRITICIZED]->(:Entity),(:Entity)-[:WORKED_WITH]->(:Entity),(:Entity)-[:LEFT]->(:Entity),(:Entity)-[:WON]->(:Entity),(:Entity)-[:RELEASED]->(:Entity),(:Entity)-[:FEATURED_ON]->(:Entity),(:Entity)-[:PERFORMED]->(:Entity),(:Entity)-[:CONTINUED_WRITING]->(:Entity),(:Entity)-[:DATED]->(:Entity),(:Entity)-[:SIGNED]->(:Entity),(:Entity)-[:DATING]->(:Entity),(:Entity)-[:REINVENTED_WITH]->(:Entity),(:Entity)-[:EMBRACED]->(:Entity),(:Entity)-[:POSSESSES]->(:Entity),(:Entity)-[:ADMITTED]->(:Entity),(:Entity)-[:IDENTIFIES_AS]->(:Entity),(:Entity)-[:WELCOMED]->(:Entity),(:Entity)-[:AWARDED_WITH]->(:Entity),(:Entity)-[:PRAISED_FOR]->(:Entity),(:Entity)-[:EMPHASIZES]->(:Entity),(:Entity)-[:COLLABORATED_WITH]->(:Entity),(:Entity)-[:HAS_WON]->(:Entity),(:Entity)-[:TOPPED]->(:Entity),(:Entity)-[:CREDITED_WITH]->(:Entity),(:Entity)-[:ACCUSED_OF]->(:Entity),(:Entity)-[:SHAPED]->(:Entity),(:Entity)-[:ACHIEVED]->(:Entity),(:Entity)-[:DONATED]->(:Entity),(:Entity)-[:SUPPORTER_OF]->(:Entity),(:Entity)-[:DONATED_TO]->(:Entity),(:Entity)-[:EARNED]->(:Entity),(:Entity)-[:EXPLORED]->(:Entity),(:Entity)-[:CO-WROTE]->(:Entity),(:Entity)-[:MADE]->(:Entity),(:Entity)-[:NAMED]->(:Entity),(:Entity)-[:HONORED_WITH]->(:Entity),(:Entity)-[:KNOWN_FOR]->(:Entity),(:Entity)-[:DOMINATES]->(:Entity),(:Entity)-[:CALLED]->(:Entity),(:Entity)-[:EXPERIMENTED_WITH]->(:Entity),(:Entity)-[:TRAVELED_TO]->(:Entity),(:Entity)-[:STARTED_LEARNING]->(:Entity),(:Entity)-[:BECAME]->(:Entity),(:Entity)-[:CAUGHT]->(:Entity),(:Entity)-[:WAS_NAMED]->(:Entity),(:Entity)-[:INCLUDED]->(:Entity),(:Entity)-[:BEGAN_LIVING_IN]->(:Entity),(:Entity)-[:PRODUCED]->(:Entity),(:Entity)-[:REMOVED]->(:Entity),(:Entity)-[:RECORDED]->(:Entity),(:Entity)-[:COUNTERSUED]->(:Entity),(:Entity)-[:BECAME_EMBROILED_IN]->(:Entity),(:Entity)-[:SURPRISE-RELEASED]->(:Entity),(:Entity)-[:PLAYED]->(:Entity),(:Entity)-[:PREMIERED]->(:Entity),(:Entity)-[:SOLD]->(:Entity),(:Entity)-[:ACCOMPANIES]->(:Entity),(:Entity)-[:HAD]->(:Entity),(:Entity)-[:INCORPORATED]->(:Entity),(:Entity)-[:RANKED]->(:Entity),(:Entity)-[:DIVIDES]->(:Entity),(:Entity)-[:AWARDED]->(:Entity),(:Entity)-[:NOTED_AS]->(:Entity),(:Entity)-[:COMMANDS]->(:Entity),(:Entity)-[:CITED]->(:Entity),(:Entity)-[:REMAINS]->(:Entity),(:Entity)-[:KNOWN_AS]->(:Entity),(:Entity)-[:PURCHASED]->(:Entity),(:Entity)-[:EXTENDED_SUCCESS_BEYOND]->(:Entity),(:Entity)-[:PIONEERED_USE_OF]->(:Entity),(:Entity)-[:INTRODUCED_GENRE_TO]->(:Entity),(:Entity)-[:CHANGED]->(:Entity),(:Entity)-[:MAINTAINS]->(:Entity),(:Entity)-[:BEGAN_MEETING_FOR]->(:Entity),(:Entity)-[:SPENT]->(:Entity),(:Entity)-[:OPENED_AT]->(:Entity),(:Entity)-[:PEAKED_ATOP]->(:Entity),(:Entity)-[:INCORPORATES]->(:Entity),(:Entity)-[:TOPPED_THE_CHARTS_IN]->(:Entity),(:Entity)-[:COMMENTED]->(:Entity)'}})"
      ]
     },
     "execution_count": 225,
     "metadata": {},
     "output_type": "execute_result"
    }
   ],
   "source": [
    "# Failure mode - entity: multiple entities referring to the same thing\n",
    "graph_response = graph_query_engine.query(\n",
    "    \"Who is Taylor alison swift named after\"\n",
    ")\n",
    "graph_response"
   ]
  },
  {
   "cell_type": "code",
   "execution_count": 230,
   "id": "062b4d95-f8e0-42d9-9991-96764467e2c7",
   "metadata": {},
   "outputs": [
    {
     "name": "stdout",
     "output_type": "stream",
     "text": [
      "INFO:httpx:HTTP Request: POST https://api.openai.com/v1/chat/completions \"HTTP/1.1 200 OK\"\n",
      "\u001b[1;3;33mGraph Store Query:\n",
      "MATCH (e1:Entity)-[:IS_NAMED_AFTER]->(e2:Entity)\n",
      "WHERE e1.id = 'Taylor Swift'\n",
      "RETURN e2;\n",
      "\u001b[0m\u001b[1;3;33mGraph Store Response:\n",
      "[]\n",
      "\u001b[0mINFO:httpx:HTTP Request: POST https://api.openai.com/v1/chat/completions \"HTTP/1.1 200 OK\"\n",
      "\u001b[1;3;32mFinal Response: Taylor Swift is not named after anyone, based on the provided information.\n",
      "\u001b[0m"
     ]
    },
    {
     "data": {
      "text/plain": [
       "Response(response='Taylor Swift is not named after anyone, based on the provided information.', source_nodes=[NodeWithScore(node=TextNode(id_='b5dec4b0-a909-4929-a8e8-19625ddd064b', embedding=None, metadata={'query_str': 'Who is Taylor Swift named after', 'graph_store_query': \"MATCH (e1:Entity)-[:IS_NAMED_AFTER]->(e2:Entity)\\nWHERE e1.id = 'Taylor Swift'\\nRETURN e2;\", 'graph_store_response': [], 'graph_schema': 'Node properties are the following:\\nEntity {id: STRING}\\nRelationship properties are the following:\\n\\nThe relationships are the following:\\n(:Entity)-[:IS_NAMED_AFTER]->(:Entity),(:Entity)-[:FATHER_IS]->(:Entity),(:Entity)-[:MOTHER_IS]->(:Entity),(:Entity)-[:HAS_FATHER]->(:Entity),(:Entity)-[:HAS_MOTHER]->(:Entity),(:Entity)-[:HAS_BROTHER]->(:Entity),(:Entity)-[:SPENT_EARLY_YEARS_ON]->(:Entity),(:Entity)-[:IS]->(:Entity),(:Entity)-[:IS_ESTIMATED_BY]->(:Entity),(:Entity)-[:DONATED_$4_MILLION_TO]->(:Entity),(:Entity)-[:EMPLOYED]->(:Entity),(:Entity)-[:GAVE]->(:Entity),(:Entity)-[:WANTED_TO_CAPTURE]->(:Entity),(:Entity)-[:RE-RECORDING]->(:Entity),(:Entity)-[:BEGAN_RE-RECORDING]->(:Entity),(:Entity)-[:PROCLAIMED_AS]->(:Entity),(:Entity)-[:DEVELOPED]->(:Entity),(:Entity)-[:CREATED]->(:Entity),(:Entity)-[:ANNOUNCED]->(:Entity),(:Entity)-[:BLENDED]->(:Entity),(:Entity)-[:CHOSE]->(:Entity),(:Entity)-[:FASCINATION_WITH]->(:Entity),(:Entity)-[:RECEIVED]->(:Entity),(:Entity)-[:LYRICAL_INFLUENCES_INCLUDE]->(:Entity),(:Entity)-[:CONFESSIONAL_LYRICS_RECEIVED]->(:Entity),(:Entity)-[:DEBUTED_AS]->(:Entity),(:Entity)-[:INCLUDED_ON]->(:Entity),(:Entity)-[:FIRST_WOMAN_TO]->(:Entity),(:Entity)-[:ENDORSED]->(:Entity),(:Entity)-[:ENCOURAGED]->(:Entity),(:Entity)-[:REFERRED_TO_AS]->(:Entity),(:Entity)-[:PARTICIPATED_IN]->(:Entity),(:Entity)-[:WROTE]->(:Entity),(:Entity)-[:WAS]->(:Entity),(:Entity)-[:HAS]->(:Entity),(:Entity)-[:CRITICIZED]->(:Entity),(:Entity)-[:WORKED_WITH]->(:Entity),(:Entity)-[:LEFT]->(:Entity),(:Entity)-[:WON]->(:Entity),(:Entity)-[:RELEASED]->(:Entity),(:Entity)-[:FEATURED_ON]->(:Entity),(:Entity)-[:PERFORMED]->(:Entity),(:Entity)-[:CONTINUED_WRITING]->(:Entity),(:Entity)-[:DATED]->(:Entity),(:Entity)-[:SIGNED]->(:Entity),(:Entity)-[:DATING]->(:Entity),(:Entity)-[:REINVENTED_WITH]->(:Entity),(:Entity)-[:EMBRACED]->(:Entity),(:Entity)-[:POSSESSES]->(:Entity),(:Entity)-[:ADMITTED]->(:Entity),(:Entity)-[:IDENTIFIES_AS]->(:Entity),(:Entity)-[:WELCOMED]->(:Entity),(:Entity)-[:AWARDED_WITH]->(:Entity),(:Entity)-[:PRAISED_FOR]->(:Entity),(:Entity)-[:EMPHASIZES]->(:Entity),(:Entity)-[:COLLABORATED_WITH]->(:Entity),(:Entity)-[:HAS_WON]->(:Entity),(:Entity)-[:TOPPED]->(:Entity),(:Entity)-[:CREDITED_WITH]->(:Entity),(:Entity)-[:ACCUSED_OF]->(:Entity),(:Entity)-[:SHAPED]->(:Entity),(:Entity)-[:ACHIEVED]->(:Entity),(:Entity)-[:DONATED]->(:Entity),(:Entity)-[:SUPPORTER_OF]->(:Entity),(:Entity)-[:DONATED_TO]->(:Entity),(:Entity)-[:EARNED]->(:Entity),(:Entity)-[:EXPLORED]->(:Entity),(:Entity)-[:CO-WROTE]->(:Entity),(:Entity)-[:MADE]->(:Entity),(:Entity)-[:NAMED]->(:Entity),(:Entity)-[:HONORED_WITH]->(:Entity),(:Entity)-[:KNOWN_FOR]->(:Entity),(:Entity)-[:DOMINATES]->(:Entity),(:Entity)-[:CALLED]->(:Entity),(:Entity)-[:EXPERIMENTED_WITH]->(:Entity),(:Entity)-[:TRAVELED_TO]->(:Entity),(:Entity)-[:STARTED_LEARNING]->(:Entity),(:Entity)-[:BECAME]->(:Entity),(:Entity)-[:CAUGHT]->(:Entity),(:Entity)-[:WAS_NAMED]->(:Entity),(:Entity)-[:INCLUDED]->(:Entity),(:Entity)-[:BEGAN_LIVING_IN]->(:Entity),(:Entity)-[:PRODUCED]->(:Entity),(:Entity)-[:REMOVED]->(:Entity),(:Entity)-[:RECORDED]->(:Entity),(:Entity)-[:COUNTERSUED]->(:Entity),(:Entity)-[:BECAME_EMBROILED_IN]->(:Entity),(:Entity)-[:SURPRISE-RELEASED]->(:Entity),(:Entity)-[:PLAYED]->(:Entity),(:Entity)-[:PREMIERED]->(:Entity),(:Entity)-[:SOLD]->(:Entity),(:Entity)-[:ACCOMPANIES]->(:Entity),(:Entity)-[:HAD]->(:Entity),(:Entity)-[:INCORPORATED]->(:Entity),(:Entity)-[:RANKED]->(:Entity),(:Entity)-[:DIVIDES]->(:Entity),(:Entity)-[:AWARDED]->(:Entity),(:Entity)-[:NOTED_AS]->(:Entity),(:Entity)-[:COMMANDS]->(:Entity),(:Entity)-[:CITED]->(:Entity),(:Entity)-[:REMAINS]->(:Entity),(:Entity)-[:KNOWN_AS]->(:Entity),(:Entity)-[:PURCHASED]->(:Entity),(:Entity)-[:EXTENDED_SUCCESS_BEYOND]->(:Entity),(:Entity)-[:PIONEERED_USE_OF]->(:Entity),(:Entity)-[:INTRODUCED_GENRE_TO]->(:Entity),(:Entity)-[:CHANGED]->(:Entity),(:Entity)-[:MAINTAINS]->(:Entity),(:Entity)-[:BEGAN_MEETING_FOR]->(:Entity),(:Entity)-[:SPENT]->(:Entity),(:Entity)-[:OPENED_AT]->(:Entity),(:Entity)-[:PEAKED_ATOP]->(:Entity),(:Entity)-[:INCORPORATES]->(:Entity),(:Entity)-[:TOPPED_THE_CHARTS_IN]->(:Entity),(:Entity)-[:COMMENTED]->(:Entity)'}, excluded_embed_metadata_keys=[], excluded_llm_metadata_keys=[], relationships={}, text=\"\\nThe original question is given below.\\nThis question has been translated into a Graph Database query.\\nBoth the Graph query and the response are given below.\\nGiven the Graph Query response, synthesise a response to the original question.\\n\\nOriginal question: Who is Taylor Swift named after\\nGraph query: MATCH (e1:Entity)-[:IS_NAMED_AFTER]->(e2:Entity)\\nWHERE e1.id = 'Taylor Swift'\\nRETURN e2;\\nGraph response: []\\nResponse:\\n\", start_char_idx=None, end_char_idx=None, text_template='{metadata_str}\\n\\n{content}', metadata_template='{key}: {value}', metadata_seperator='\\n'), score=1.0)], metadata={'b5dec4b0-a909-4929-a8e8-19625ddd064b': {'query_str': 'Who is Taylor Swift named after', 'graph_store_query': \"MATCH (e1:Entity)-[:IS_NAMED_AFTER]->(e2:Entity)\\nWHERE e1.id = 'Taylor Swift'\\nRETURN e2;\", 'graph_store_response': [], 'graph_schema': 'Node properties are the following:\\nEntity {id: STRING}\\nRelationship properties are the following:\\n\\nThe relationships are the following:\\n(:Entity)-[:IS_NAMED_AFTER]->(:Entity),(:Entity)-[:FATHER_IS]->(:Entity),(:Entity)-[:MOTHER_IS]->(:Entity),(:Entity)-[:HAS_FATHER]->(:Entity),(:Entity)-[:HAS_MOTHER]->(:Entity),(:Entity)-[:HAS_BROTHER]->(:Entity),(:Entity)-[:SPENT_EARLY_YEARS_ON]->(:Entity),(:Entity)-[:IS]->(:Entity),(:Entity)-[:IS_ESTIMATED_BY]->(:Entity),(:Entity)-[:DONATED_$4_MILLION_TO]->(:Entity),(:Entity)-[:EMPLOYED]->(:Entity),(:Entity)-[:GAVE]->(:Entity),(:Entity)-[:WANTED_TO_CAPTURE]->(:Entity),(:Entity)-[:RE-RECORDING]->(:Entity),(:Entity)-[:BEGAN_RE-RECORDING]->(:Entity),(:Entity)-[:PROCLAIMED_AS]->(:Entity),(:Entity)-[:DEVELOPED]->(:Entity),(:Entity)-[:CREATED]->(:Entity),(:Entity)-[:ANNOUNCED]->(:Entity),(:Entity)-[:BLENDED]->(:Entity),(:Entity)-[:CHOSE]->(:Entity),(:Entity)-[:FASCINATION_WITH]->(:Entity),(:Entity)-[:RECEIVED]->(:Entity),(:Entity)-[:LYRICAL_INFLUENCES_INCLUDE]->(:Entity),(:Entity)-[:CONFESSIONAL_LYRICS_RECEIVED]->(:Entity),(:Entity)-[:DEBUTED_AS]->(:Entity),(:Entity)-[:INCLUDED_ON]->(:Entity),(:Entity)-[:FIRST_WOMAN_TO]->(:Entity),(:Entity)-[:ENDORSED]->(:Entity),(:Entity)-[:ENCOURAGED]->(:Entity),(:Entity)-[:REFERRED_TO_AS]->(:Entity),(:Entity)-[:PARTICIPATED_IN]->(:Entity),(:Entity)-[:WROTE]->(:Entity),(:Entity)-[:WAS]->(:Entity),(:Entity)-[:HAS]->(:Entity),(:Entity)-[:CRITICIZED]->(:Entity),(:Entity)-[:WORKED_WITH]->(:Entity),(:Entity)-[:LEFT]->(:Entity),(:Entity)-[:WON]->(:Entity),(:Entity)-[:RELEASED]->(:Entity),(:Entity)-[:FEATURED_ON]->(:Entity),(:Entity)-[:PERFORMED]->(:Entity),(:Entity)-[:CONTINUED_WRITING]->(:Entity),(:Entity)-[:DATED]->(:Entity),(:Entity)-[:SIGNED]->(:Entity),(:Entity)-[:DATING]->(:Entity),(:Entity)-[:REINVENTED_WITH]->(:Entity),(:Entity)-[:EMBRACED]->(:Entity),(:Entity)-[:POSSESSES]->(:Entity),(:Entity)-[:ADMITTED]->(:Entity),(:Entity)-[:IDENTIFIES_AS]->(:Entity),(:Entity)-[:WELCOMED]->(:Entity),(:Entity)-[:AWARDED_WITH]->(:Entity),(:Entity)-[:PRAISED_FOR]->(:Entity),(:Entity)-[:EMPHASIZES]->(:Entity),(:Entity)-[:COLLABORATED_WITH]->(:Entity),(:Entity)-[:HAS_WON]->(:Entity),(:Entity)-[:TOPPED]->(:Entity),(:Entity)-[:CREDITED_WITH]->(:Entity),(:Entity)-[:ACCUSED_OF]->(:Entity),(:Entity)-[:SHAPED]->(:Entity),(:Entity)-[:ACHIEVED]->(:Entity),(:Entity)-[:DONATED]->(:Entity),(:Entity)-[:SUPPORTER_OF]->(:Entity),(:Entity)-[:DONATED_TO]->(:Entity),(:Entity)-[:EARNED]->(:Entity),(:Entity)-[:EXPLORED]->(:Entity),(:Entity)-[:CO-WROTE]->(:Entity),(:Entity)-[:MADE]->(:Entity),(:Entity)-[:NAMED]->(:Entity),(:Entity)-[:HONORED_WITH]->(:Entity),(:Entity)-[:KNOWN_FOR]->(:Entity),(:Entity)-[:DOMINATES]->(:Entity),(:Entity)-[:CALLED]->(:Entity),(:Entity)-[:EXPERIMENTED_WITH]->(:Entity),(:Entity)-[:TRAVELED_TO]->(:Entity),(:Entity)-[:STARTED_LEARNING]->(:Entity),(:Entity)-[:BECAME]->(:Entity),(:Entity)-[:CAUGHT]->(:Entity),(:Entity)-[:WAS_NAMED]->(:Entity),(:Entity)-[:INCLUDED]->(:Entity),(:Entity)-[:BEGAN_LIVING_IN]->(:Entity),(:Entity)-[:PRODUCED]->(:Entity),(:Entity)-[:REMOVED]->(:Entity),(:Entity)-[:RECORDED]->(:Entity),(:Entity)-[:COUNTERSUED]->(:Entity),(:Entity)-[:BECAME_EMBROILED_IN]->(:Entity),(:Entity)-[:SURPRISE-RELEASED]->(:Entity),(:Entity)-[:PLAYED]->(:Entity),(:Entity)-[:PREMIERED]->(:Entity),(:Entity)-[:SOLD]->(:Entity),(:Entity)-[:ACCOMPANIES]->(:Entity),(:Entity)-[:HAD]->(:Entity),(:Entity)-[:INCORPORATED]->(:Entity),(:Entity)-[:RANKED]->(:Entity),(:Entity)-[:DIVIDES]->(:Entity),(:Entity)-[:AWARDED]->(:Entity),(:Entity)-[:NOTED_AS]->(:Entity),(:Entity)-[:COMMANDS]->(:Entity),(:Entity)-[:CITED]->(:Entity),(:Entity)-[:REMAINS]->(:Entity),(:Entity)-[:KNOWN_AS]->(:Entity),(:Entity)-[:PURCHASED]->(:Entity),(:Entity)-[:EXTENDED_SUCCESS_BEYOND]->(:Entity),(:Entity)-[:PIONEERED_USE_OF]->(:Entity),(:Entity)-[:INTRODUCED_GENRE_TO]->(:Entity),(:Entity)-[:CHANGED]->(:Entity),(:Entity)-[:MAINTAINS]->(:Entity),(:Entity)-[:BEGAN_MEETING_FOR]->(:Entity),(:Entity)-[:SPENT]->(:Entity),(:Entity)-[:OPENED_AT]->(:Entity),(:Entity)-[:PEAKED_ATOP]->(:Entity),(:Entity)-[:INCORPORATES]->(:Entity),(:Entity)-[:TOPPED_THE_CHARTS_IN]->(:Entity),(:Entity)-[:COMMENTED]->(:Entity)'}})"
      ]
     },
     "execution_count": 230,
     "metadata": {},
     "output_type": "execute_result"
    }
   ],
   "source": [
    "graph_response = graph_query_engine.query(\n",
    "    \"Who is Taylor Swift named after\"\n",
    ")\n",
    "graph_response"
   ]
  },
  {
   "cell_type": "code",
   "execution_count": 220,
   "id": "a4650205-a487-4d0d-92b9-d14f08e705b3",
   "metadata": {},
   "outputs": [
    {
     "data": {
      "text/plain": [
       "[{'a': {'id': 'Taylor alison swift'},\n",
       "  'r': ({'id': 'Taylor alison swift'}, 'HAS_BROTHER', {'id': 'Austin'}),\n",
       "  'b': {'id': 'Austin'}}]"
      ]
     },
     "execution_count": 220,
     "metadata": {},
     "output_type": "execute_result"
    }
   ],
   "source": [
    "# Failure mode - entity: upper vs lower case letter\n",
    "query_response = graph.query(\n",
    "    \"MATCH (a:Entity)-[r:HAS_BROTHER]->(b:Entity) RETURN a, r, b\"\n",
    ")\n",
    "query_response"
   ]
  },
  {
   "cell_type": "code",
   "execution_count": 229,
   "id": "b316adcd-0b36-4166-8222-884a600cc381",
   "metadata": {},
   "outputs": [
    {
     "name": "stdout",
     "output_type": "stream",
     "text": [
      "INFO:httpx:HTTP Request: POST https://api.openai.com/v1/chat/completions \"HTTP/1.1 200 OK\"\n",
      "\u001b[1;3;33mGraph Store Query:\n",
      "MATCH (taylor:Entity {id: 'Taylor Alison Swift'})-[:HAS_BROTHER]->(brother:Entity)\n",
      "RETURN taylor, brother\n",
      "\u001b[0m\u001b[1;3;33mGraph Store Response:\n",
      "[]\n",
      "\u001b[0mINFO:httpx:HTTP Request: POST https://api.openai.com/v1/chat/completions \"HTTP/1.1 200 OK\"\n",
      "\u001b[1;3;32mFinal Response: No, based on the information provided in the graph query response, there is no evidence to suggest that Taylor Alison Swift has a brother.\n",
      "\u001b[0m"
     ]
    },
    {
     "data": {
      "text/plain": [
       "Response(response='No, based on the information provided in the graph query response, there is no evidence to suggest that Taylor Alison Swift has a brother.', source_nodes=[NodeWithScore(node=TextNode(id_='a5c59db4-f566-4187-a3b9-d2670aa3019a', embedding=None, metadata={'query_str': 'Does Taylor alison swift has a brother?', 'graph_store_query': \"MATCH (taylor:Entity {id: 'Taylor Alison Swift'})-[:HAS_BROTHER]->(brother:Entity)\\nRETURN taylor, brother\", 'graph_store_response': [], 'graph_schema': 'Node properties are the following:\\nEntity {id: STRING}\\nRelationship properties are the following:\\n\\nThe relationships are the following:\\n(:Entity)-[:IS_NAMED_AFTER]->(:Entity),(:Entity)-[:FATHER_IS]->(:Entity),(:Entity)-[:MOTHER_IS]->(:Entity),(:Entity)-[:HAS_FATHER]->(:Entity),(:Entity)-[:HAS_MOTHER]->(:Entity),(:Entity)-[:HAS_BROTHER]->(:Entity),(:Entity)-[:SPENT_EARLY_YEARS_ON]->(:Entity),(:Entity)-[:IS]->(:Entity),(:Entity)-[:IS_ESTIMATED_BY]->(:Entity),(:Entity)-[:DONATED_$4_MILLION_TO]->(:Entity),(:Entity)-[:EMPLOYED]->(:Entity),(:Entity)-[:GAVE]->(:Entity),(:Entity)-[:WANTED_TO_CAPTURE]->(:Entity),(:Entity)-[:RE-RECORDING]->(:Entity),(:Entity)-[:BEGAN_RE-RECORDING]->(:Entity),(:Entity)-[:PROCLAIMED_AS]->(:Entity),(:Entity)-[:DEVELOPED]->(:Entity),(:Entity)-[:CREATED]->(:Entity),(:Entity)-[:ANNOUNCED]->(:Entity),(:Entity)-[:BLENDED]->(:Entity),(:Entity)-[:CHOSE]->(:Entity),(:Entity)-[:FASCINATION_WITH]->(:Entity),(:Entity)-[:RECEIVED]->(:Entity),(:Entity)-[:LYRICAL_INFLUENCES_INCLUDE]->(:Entity),(:Entity)-[:CONFESSIONAL_LYRICS_RECEIVED]->(:Entity),(:Entity)-[:DEBUTED_AS]->(:Entity),(:Entity)-[:INCLUDED_ON]->(:Entity),(:Entity)-[:FIRST_WOMAN_TO]->(:Entity),(:Entity)-[:ENDORSED]->(:Entity),(:Entity)-[:ENCOURAGED]->(:Entity),(:Entity)-[:REFERRED_TO_AS]->(:Entity),(:Entity)-[:PARTICIPATED_IN]->(:Entity),(:Entity)-[:WROTE]->(:Entity),(:Entity)-[:WAS]->(:Entity),(:Entity)-[:HAS]->(:Entity),(:Entity)-[:CRITICIZED]->(:Entity),(:Entity)-[:WORKED_WITH]->(:Entity),(:Entity)-[:LEFT]->(:Entity),(:Entity)-[:WON]->(:Entity),(:Entity)-[:RELEASED]->(:Entity),(:Entity)-[:FEATURED_ON]->(:Entity),(:Entity)-[:PERFORMED]->(:Entity),(:Entity)-[:CONTINUED_WRITING]->(:Entity),(:Entity)-[:DATED]->(:Entity),(:Entity)-[:SIGNED]->(:Entity),(:Entity)-[:DATING]->(:Entity),(:Entity)-[:REINVENTED_WITH]->(:Entity),(:Entity)-[:EMBRACED]->(:Entity),(:Entity)-[:POSSESSES]->(:Entity),(:Entity)-[:ADMITTED]->(:Entity),(:Entity)-[:IDENTIFIES_AS]->(:Entity),(:Entity)-[:WELCOMED]->(:Entity),(:Entity)-[:AWARDED_WITH]->(:Entity),(:Entity)-[:PRAISED_FOR]->(:Entity),(:Entity)-[:EMPHASIZES]->(:Entity),(:Entity)-[:COLLABORATED_WITH]->(:Entity),(:Entity)-[:HAS_WON]->(:Entity),(:Entity)-[:TOPPED]->(:Entity),(:Entity)-[:CREDITED_WITH]->(:Entity),(:Entity)-[:ACCUSED_OF]->(:Entity),(:Entity)-[:SHAPED]->(:Entity),(:Entity)-[:ACHIEVED]->(:Entity),(:Entity)-[:DONATED]->(:Entity),(:Entity)-[:SUPPORTER_OF]->(:Entity),(:Entity)-[:DONATED_TO]->(:Entity),(:Entity)-[:EARNED]->(:Entity),(:Entity)-[:EXPLORED]->(:Entity),(:Entity)-[:CO-WROTE]->(:Entity),(:Entity)-[:MADE]->(:Entity),(:Entity)-[:NAMED]->(:Entity),(:Entity)-[:HONORED_WITH]->(:Entity),(:Entity)-[:KNOWN_FOR]->(:Entity),(:Entity)-[:DOMINATES]->(:Entity),(:Entity)-[:CALLED]->(:Entity),(:Entity)-[:EXPERIMENTED_WITH]->(:Entity),(:Entity)-[:TRAVELED_TO]->(:Entity),(:Entity)-[:STARTED_LEARNING]->(:Entity),(:Entity)-[:BECAME]->(:Entity),(:Entity)-[:CAUGHT]->(:Entity),(:Entity)-[:WAS_NAMED]->(:Entity),(:Entity)-[:INCLUDED]->(:Entity),(:Entity)-[:BEGAN_LIVING_IN]->(:Entity),(:Entity)-[:PRODUCED]->(:Entity),(:Entity)-[:REMOVED]->(:Entity),(:Entity)-[:RECORDED]->(:Entity),(:Entity)-[:COUNTERSUED]->(:Entity),(:Entity)-[:BECAME_EMBROILED_IN]->(:Entity),(:Entity)-[:SURPRISE-RELEASED]->(:Entity),(:Entity)-[:PLAYED]->(:Entity),(:Entity)-[:PREMIERED]->(:Entity),(:Entity)-[:SOLD]->(:Entity),(:Entity)-[:ACCOMPANIES]->(:Entity),(:Entity)-[:HAD]->(:Entity),(:Entity)-[:INCORPORATED]->(:Entity),(:Entity)-[:RANKED]->(:Entity),(:Entity)-[:DIVIDES]->(:Entity),(:Entity)-[:AWARDED]->(:Entity),(:Entity)-[:NOTED_AS]->(:Entity),(:Entity)-[:COMMANDS]->(:Entity),(:Entity)-[:CITED]->(:Entity),(:Entity)-[:REMAINS]->(:Entity),(:Entity)-[:KNOWN_AS]->(:Entity),(:Entity)-[:PURCHASED]->(:Entity),(:Entity)-[:EXTENDED_SUCCESS_BEYOND]->(:Entity),(:Entity)-[:PIONEERED_USE_OF]->(:Entity),(:Entity)-[:INTRODUCED_GENRE_TO]->(:Entity),(:Entity)-[:CHANGED]->(:Entity),(:Entity)-[:MAINTAINS]->(:Entity),(:Entity)-[:BEGAN_MEETING_FOR]->(:Entity),(:Entity)-[:SPENT]->(:Entity),(:Entity)-[:OPENED_AT]->(:Entity),(:Entity)-[:PEAKED_ATOP]->(:Entity),(:Entity)-[:INCORPORATES]->(:Entity),(:Entity)-[:TOPPED_THE_CHARTS_IN]->(:Entity),(:Entity)-[:COMMENTED]->(:Entity)'}, excluded_embed_metadata_keys=[], excluded_llm_metadata_keys=[], relationships={}, text=\"\\nThe original question is given below.\\nThis question has been translated into a Graph Database query.\\nBoth the Graph query and the response are given below.\\nGiven the Graph Query response, synthesise a response to the original question.\\n\\nOriginal question: Does Taylor alison swift has a brother?\\nGraph query: MATCH (taylor:Entity {id: 'Taylor Alison Swift'})-[:HAS_BROTHER]->(brother:Entity)\\nRETURN taylor, brother\\nGraph response: []\\nResponse:\\n\", start_char_idx=None, end_char_idx=None, text_template='{metadata_str}\\n\\n{content}', metadata_template='{key}: {value}', metadata_seperator='\\n'), score=1.0)], metadata={'a5c59db4-f566-4187-a3b9-d2670aa3019a': {'query_str': 'Does Taylor alison swift has a brother?', 'graph_store_query': \"MATCH (taylor:Entity {id: 'Taylor Alison Swift'})-[:HAS_BROTHER]->(brother:Entity)\\nRETURN taylor, brother\", 'graph_store_response': [], 'graph_schema': 'Node properties are the following:\\nEntity {id: STRING}\\nRelationship properties are the following:\\n\\nThe relationships are the following:\\n(:Entity)-[:IS_NAMED_AFTER]->(:Entity),(:Entity)-[:FATHER_IS]->(:Entity),(:Entity)-[:MOTHER_IS]->(:Entity),(:Entity)-[:HAS_FATHER]->(:Entity),(:Entity)-[:HAS_MOTHER]->(:Entity),(:Entity)-[:HAS_BROTHER]->(:Entity),(:Entity)-[:SPENT_EARLY_YEARS_ON]->(:Entity),(:Entity)-[:IS]->(:Entity),(:Entity)-[:IS_ESTIMATED_BY]->(:Entity),(:Entity)-[:DONATED_$4_MILLION_TO]->(:Entity),(:Entity)-[:EMPLOYED]->(:Entity),(:Entity)-[:GAVE]->(:Entity),(:Entity)-[:WANTED_TO_CAPTURE]->(:Entity),(:Entity)-[:RE-RECORDING]->(:Entity),(:Entity)-[:BEGAN_RE-RECORDING]->(:Entity),(:Entity)-[:PROCLAIMED_AS]->(:Entity),(:Entity)-[:DEVELOPED]->(:Entity),(:Entity)-[:CREATED]->(:Entity),(:Entity)-[:ANNOUNCED]->(:Entity),(:Entity)-[:BLENDED]->(:Entity),(:Entity)-[:CHOSE]->(:Entity),(:Entity)-[:FASCINATION_WITH]->(:Entity),(:Entity)-[:RECEIVED]->(:Entity),(:Entity)-[:LYRICAL_INFLUENCES_INCLUDE]->(:Entity),(:Entity)-[:CONFESSIONAL_LYRICS_RECEIVED]->(:Entity),(:Entity)-[:DEBUTED_AS]->(:Entity),(:Entity)-[:INCLUDED_ON]->(:Entity),(:Entity)-[:FIRST_WOMAN_TO]->(:Entity),(:Entity)-[:ENDORSED]->(:Entity),(:Entity)-[:ENCOURAGED]->(:Entity),(:Entity)-[:REFERRED_TO_AS]->(:Entity),(:Entity)-[:PARTICIPATED_IN]->(:Entity),(:Entity)-[:WROTE]->(:Entity),(:Entity)-[:WAS]->(:Entity),(:Entity)-[:HAS]->(:Entity),(:Entity)-[:CRITICIZED]->(:Entity),(:Entity)-[:WORKED_WITH]->(:Entity),(:Entity)-[:LEFT]->(:Entity),(:Entity)-[:WON]->(:Entity),(:Entity)-[:RELEASED]->(:Entity),(:Entity)-[:FEATURED_ON]->(:Entity),(:Entity)-[:PERFORMED]->(:Entity),(:Entity)-[:CONTINUED_WRITING]->(:Entity),(:Entity)-[:DATED]->(:Entity),(:Entity)-[:SIGNED]->(:Entity),(:Entity)-[:DATING]->(:Entity),(:Entity)-[:REINVENTED_WITH]->(:Entity),(:Entity)-[:EMBRACED]->(:Entity),(:Entity)-[:POSSESSES]->(:Entity),(:Entity)-[:ADMITTED]->(:Entity),(:Entity)-[:IDENTIFIES_AS]->(:Entity),(:Entity)-[:WELCOMED]->(:Entity),(:Entity)-[:AWARDED_WITH]->(:Entity),(:Entity)-[:PRAISED_FOR]->(:Entity),(:Entity)-[:EMPHASIZES]->(:Entity),(:Entity)-[:COLLABORATED_WITH]->(:Entity),(:Entity)-[:HAS_WON]->(:Entity),(:Entity)-[:TOPPED]->(:Entity),(:Entity)-[:CREDITED_WITH]->(:Entity),(:Entity)-[:ACCUSED_OF]->(:Entity),(:Entity)-[:SHAPED]->(:Entity),(:Entity)-[:ACHIEVED]->(:Entity),(:Entity)-[:DONATED]->(:Entity),(:Entity)-[:SUPPORTER_OF]->(:Entity),(:Entity)-[:DONATED_TO]->(:Entity),(:Entity)-[:EARNED]->(:Entity),(:Entity)-[:EXPLORED]->(:Entity),(:Entity)-[:CO-WROTE]->(:Entity),(:Entity)-[:MADE]->(:Entity),(:Entity)-[:NAMED]->(:Entity),(:Entity)-[:HONORED_WITH]->(:Entity),(:Entity)-[:KNOWN_FOR]->(:Entity),(:Entity)-[:DOMINATES]->(:Entity),(:Entity)-[:CALLED]->(:Entity),(:Entity)-[:EXPERIMENTED_WITH]->(:Entity),(:Entity)-[:TRAVELED_TO]->(:Entity),(:Entity)-[:STARTED_LEARNING]->(:Entity),(:Entity)-[:BECAME]->(:Entity),(:Entity)-[:CAUGHT]->(:Entity),(:Entity)-[:WAS_NAMED]->(:Entity),(:Entity)-[:INCLUDED]->(:Entity),(:Entity)-[:BEGAN_LIVING_IN]->(:Entity),(:Entity)-[:PRODUCED]->(:Entity),(:Entity)-[:REMOVED]->(:Entity),(:Entity)-[:RECORDED]->(:Entity),(:Entity)-[:COUNTERSUED]->(:Entity),(:Entity)-[:BECAME_EMBROILED_IN]->(:Entity),(:Entity)-[:SURPRISE-RELEASED]->(:Entity),(:Entity)-[:PLAYED]->(:Entity),(:Entity)-[:PREMIERED]->(:Entity),(:Entity)-[:SOLD]->(:Entity),(:Entity)-[:ACCOMPANIES]->(:Entity),(:Entity)-[:HAD]->(:Entity),(:Entity)-[:INCORPORATED]->(:Entity),(:Entity)-[:RANKED]->(:Entity),(:Entity)-[:DIVIDES]->(:Entity),(:Entity)-[:AWARDED]->(:Entity),(:Entity)-[:NOTED_AS]->(:Entity),(:Entity)-[:COMMANDS]->(:Entity),(:Entity)-[:CITED]->(:Entity),(:Entity)-[:REMAINS]->(:Entity),(:Entity)-[:KNOWN_AS]->(:Entity),(:Entity)-[:PURCHASED]->(:Entity),(:Entity)-[:EXTENDED_SUCCESS_BEYOND]->(:Entity),(:Entity)-[:PIONEERED_USE_OF]->(:Entity),(:Entity)-[:INTRODUCED_GENRE_TO]->(:Entity),(:Entity)-[:CHANGED]->(:Entity),(:Entity)-[:MAINTAINS]->(:Entity),(:Entity)-[:BEGAN_MEETING_FOR]->(:Entity),(:Entity)-[:SPENT]->(:Entity),(:Entity)-[:OPENED_AT]->(:Entity),(:Entity)-[:PEAKED_ATOP]->(:Entity),(:Entity)-[:INCORPORATES]->(:Entity),(:Entity)-[:TOPPED_THE_CHARTS_IN]->(:Entity),(:Entity)-[:COMMENTED]->(:Entity)'}})"
      ]
     },
     "execution_count": 229,
     "metadata": {},
     "output_type": "execute_result"
    }
   ],
   "source": [
    "graph_response = graph_query_engine.query(\n",
    "    \"Does Taylor alison swift has a brother?\" \n",
    ")\n",
    "graph_response"
   ]
  },
  {
   "cell_type": "code",
   "execution_count": 27,
   "id": "37c77ac3-6e16-4676-b653-ba5ca4e59701",
   "metadata": {},
   "outputs": [
    {
     "name": "stdout",
     "output_type": "stream",
     "text": [
      "INFO:httpx:HTTP Request: POST https://api.openai.com/v1/chat/completions \"HTTP/1.1 200 OK\"\n",
      "\u001b[1;3;33mGraph Store Query:\n",
      "MATCH (:Entity {id: 'Swift'})-[:DONATED_TO]->(entity)\n",
      "RETURN entity;\n",
      "\u001b[0m\u001b[1;3;33mGraph Store Response:\n",
      "[{'entity': {'id': \"Nashville's hendersonville high school\"}}, {'entity': {'id': 'Food banks'}}]\n",
      "\u001b[0mINFO:httpx:HTTP Request: POST https://api.openai.com/v1/chat/completions \"HTTP/1.1 200 OK\"\n",
      "\u001b[1;3;32mFinal Response: Swift donated to \"Nashville's Hendersonville High School\" and \"Food banks\".\n",
      "\u001b[0m"
     ]
    },
    {
     "data": {
      "text/plain": [
       "Response(response='Swift donated to \"Nashville\\'s Hendersonville High School\" and \"Food banks\".', source_nodes=[NodeWithScore(node=TextNode(id_='6c1ab44a-85b8-457c-b731-e93263a569ad', embedding=None, metadata={'query_str': 'Where did Swift donate to?', 'graph_store_query': \"MATCH (:Entity {id: 'Swift'})-[:DONATED_TO]->(entity)\\nRETURN entity;\", 'graph_store_response': [{'entity': {'id': \"Nashville's hendersonville high school\"}}, {'entity': {'id': 'Food banks'}}], 'graph_schema': 'Node properties are the following:\\nEntity {id: STRING}\\nRelationship properties are the following:\\n\\nThe relationships are the following:\\n(:Entity)-[:IS_NAMED_AFTER]->(:Entity),(:Entity)-[:FATHER_IS]->(:Entity),(:Entity)-[:MOTHER_IS]->(:Entity),(:Entity)-[:HAS_FATHER]->(:Entity),(:Entity)-[:HAS_MOTHER]->(:Entity),(:Entity)-[:HAS_BROTHER]->(:Entity),(:Entity)-[:SPENT_EARLY_YEARS_ON]->(:Entity),(:Entity)-[:IS]->(:Entity),(:Entity)-[:IS_ESTIMATED_BY]->(:Entity),(:Entity)-[:DONATED_$4_MILLION_TO]->(:Entity),(:Entity)-[:EMPLOYED]->(:Entity),(:Entity)-[:GAVE]->(:Entity),(:Entity)-[:WANTED_TO_CAPTURE]->(:Entity),(:Entity)-[:RE-RECORDING]->(:Entity),(:Entity)-[:BEGAN_RE-RECORDING]->(:Entity),(:Entity)-[:PROCLAIMED_AS]->(:Entity),(:Entity)-[:DEVELOPED]->(:Entity),(:Entity)-[:CREATED]->(:Entity),(:Entity)-[:ANNOUNCED]->(:Entity),(:Entity)-[:BLENDED]->(:Entity),(:Entity)-[:CHOSE]->(:Entity),(:Entity)-[:FASCINATION_WITH]->(:Entity),(:Entity)-[:RECEIVED]->(:Entity),(:Entity)-[:LYRICAL_INFLUENCES_INCLUDE]->(:Entity),(:Entity)-[:CONFESSIONAL_LYRICS_RECEIVED]->(:Entity),(:Entity)-[:DEBUTED_AS]->(:Entity),(:Entity)-[:INCLUDED_ON]->(:Entity),(:Entity)-[:FIRST_WOMAN_TO]->(:Entity),(:Entity)-[:ENDORSED]->(:Entity),(:Entity)-[:ENCOURAGED]->(:Entity),(:Entity)-[:REFERRED_TO_AS]->(:Entity),(:Entity)-[:PARTICIPATED_IN]->(:Entity),(:Entity)-[:WROTE]->(:Entity),(:Entity)-[:WAS]->(:Entity),(:Entity)-[:HAS]->(:Entity),(:Entity)-[:CRITICIZED]->(:Entity),(:Entity)-[:WORKED_WITH]->(:Entity),(:Entity)-[:LEFT]->(:Entity),(:Entity)-[:WON]->(:Entity),(:Entity)-[:RELEASED]->(:Entity),(:Entity)-[:FEATURED_ON]->(:Entity),(:Entity)-[:PERFORMED]->(:Entity),(:Entity)-[:CONTINUED_WRITING]->(:Entity),(:Entity)-[:DATED]->(:Entity),(:Entity)-[:SIGNED]->(:Entity),(:Entity)-[:DATING]->(:Entity),(:Entity)-[:REINVENTED_WITH]->(:Entity),(:Entity)-[:EMBRACED]->(:Entity),(:Entity)-[:POSSESSES]->(:Entity),(:Entity)-[:ADMITTED]->(:Entity),(:Entity)-[:IDENTIFIES_AS]->(:Entity),(:Entity)-[:WELCOMED]->(:Entity),(:Entity)-[:AWARDED_WITH]->(:Entity),(:Entity)-[:PRAISED_FOR]->(:Entity),(:Entity)-[:EMPHASIZES]->(:Entity),(:Entity)-[:COLLABORATED_WITH]->(:Entity),(:Entity)-[:HAS_WON]->(:Entity),(:Entity)-[:TOPPED]->(:Entity),(:Entity)-[:CREDITED_WITH]->(:Entity),(:Entity)-[:ACCUSED_OF]->(:Entity),(:Entity)-[:SHAPED]->(:Entity),(:Entity)-[:ACHIEVED]->(:Entity),(:Entity)-[:DONATED]->(:Entity),(:Entity)-[:SUPPORTER_OF]->(:Entity),(:Entity)-[:DONATED_TO]->(:Entity),(:Entity)-[:EARNED]->(:Entity),(:Entity)-[:EXPLORED]->(:Entity),(:Entity)-[:CO-WROTE]->(:Entity),(:Entity)-[:MADE]->(:Entity),(:Entity)-[:NAMED]->(:Entity),(:Entity)-[:HONORED_WITH]->(:Entity),(:Entity)-[:KNOWN_FOR]->(:Entity),(:Entity)-[:DOMINATES]->(:Entity),(:Entity)-[:CALLED]->(:Entity),(:Entity)-[:EXPERIMENTED_WITH]->(:Entity),(:Entity)-[:TRAVELED_TO]->(:Entity),(:Entity)-[:STARTED_LEARNING]->(:Entity),(:Entity)-[:BECAME]->(:Entity),(:Entity)-[:CAUGHT]->(:Entity),(:Entity)-[:WAS_NAMED]->(:Entity),(:Entity)-[:INCLUDED]->(:Entity),(:Entity)-[:BEGAN_LIVING_IN]->(:Entity),(:Entity)-[:PRODUCED]->(:Entity),(:Entity)-[:REMOVED]->(:Entity),(:Entity)-[:RECORDED]->(:Entity),(:Entity)-[:COUNTERSUED]->(:Entity),(:Entity)-[:BECAME_EMBROILED_IN]->(:Entity),(:Entity)-[:SURPRISE-RELEASED]->(:Entity),(:Entity)-[:PLAYED]->(:Entity),(:Entity)-[:PREMIERED]->(:Entity),(:Entity)-[:SOLD]->(:Entity),(:Entity)-[:ACCOMPANIES]->(:Entity),(:Entity)-[:HAD]->(:Entity),(:Entity)-[:INCORPORATED]->(:Entity),(:Entity)-[:RANKED]->(:Entity),(:Entity)-[:DIVIDES]->(:Entity),(:Entity)-[:AWARDED]->(:Entity),(:Entity)-[:NOTED_AS]->(:Entity),(:Entity)-[:COMMANDS]->(:Entity),(:Entity)-[:CITED]->(:Entity),(:Entity)-[:REMAINS]->(:Entity),(:Entity)-[:KNOWN_AS]->(:Entity),(:Entity)-[:PURCHASED]->(:Entity),(:Entity)-[:EXTENDED_SUCCESS_BEYOND]->(:Entity),(:Entity)-[:PIONEERED_USE_OF]->(:Entity),(:Entity)-[:INTRODUCED_GENRE_TO]->(:Entity),(:Entity)-[:CHANGED]->(:Entity),(:Entity)-[:MAINTAINS]->(:Entity),(:Entity)-[:BEGAN_MEETING_FOR]->(:Entity),(:Entity)-[:SPENT]->(:Entity),(:Entity)-[:OPENED_AT]->(:Entity),(:Entity)-[:PEAKED_ATOP]->(:Entity),(:Entity)-[:INCORPORATES]->(:Entity),(:Entity)-[:TOPPED_THE_CHARTS_IN]->(:Entity),(:Entity)-[:COMMENTED]->(:Entity)'}, excluded_embed_metadata_keys=[], excluded_llm_metadata_keys=[], relationships={}, text='\\nThe original question is given below.\\nThis question has been translated into a Graph Database query.\\nBoth the Graph query and the response are given below.\\nGiven the Graph Query response, synthesise a response to the original question.\\n\\nOriginal question: Where did Swift donate to?\\nGraph query: MATCH (:Entity {id: \\'Swift\\'})-[:DONATED_TO]->(entity)\\nRETURN entity;\\nGraph response: [{\\'entity\\': {\\'id\\': \"Nashville\\'s hendersonville high school\"}}, {\\'entity\\': {\\'id\\': \\'Food banks\\'}}]\\nResponse:\\n', start_char_idx=None, end_char_idx=None, text_template='{metadata_str}\\n\\n{content}', metadata_template='{key}: {value}', metadata_seperator='\\n'), score=1.0)], metadata={'6c1ab44a-85b8-457c-b731-e93263a569ad': {'query_str': 'Where did Swift donate to?', 'graph_store_query': \"MATCH (:Entity {id: 'Swift'})-[:DONATED_TO]->(entity)\\nRETURN entity;\", 'graph_store_response': [{'entity': {'id': \"Nashville's hendersonville high school\"}}, {'entity': {'id': 'Food banks'}}], 'graph_schema': 'Node properties are the following:\\nEntity {id: STRING}\\nRelationship properties are the following:\\n\\nThe relationships are the following:\\n(:Entity)-[:IS_NAMED_AFTER]->(:Entity),(:Entity)-[:FATHER_IS]->(:Entity),(:Entity)-[:MOTHER_IS]->(:Entity),(:Entity)-[:HAS_FATHER]->(:Entity),(:Entity)-[:HAS_MOTHER]->(:Entity),(:Entity)-[:HAS_BROTHER]->(:Entity),(:Entity)-[:SPENT_EARLY_YEARS_ON]->(:Entity),(:Entity)-[:IS]->(:Entity),(:Entity)-[:IS_ESTIMATED_BY]->(:Entity),(:Entity)-[:DONATED_$4_MILLION_TO]->(:Entity),(:Entity)-[:EMPLOYED]->(:Entity),(:Entity)-[:GAVE]->(:Entity),(:Entity)-[:WANTED_TO_CAPTURE]->(:Entity),(:Entity)-[:RE-RECORDING]->(:Entity),(:Entity)-[:BEGAN_RE-RECORDING]->(:Entity),(:Entity)-[:PROCLAIMED_AS]->(:Entity),(:Entity)-[:DEVELOPED]->(:Entity),(:Entity)-[:CREATED]->(:Entity),(:Entity)-[:ANNOUNCED]->(:Entity),(:Entity)-[:BLENDED]->(:Entity),(:Entity)-[:CHOSE]->(:Entity),(:Entity)-[:FASCINATION_WITH]->(:Entity),(:Entity)-[:RECEIVED]->(:Entity),(:Entity)-[:LYRICAL_INFLUENCES_INCLUDE]->(:Entity),(:Entity)-[:CONFESSIONAL_LYRICS_RECEIVED]->(:Entity),(:Entity)-[:DEBUTED_AS]->(:Entity),(:Entity)-[:INCLUDED_ON]->(:Entity),(:Entity)-[:FIRST_WOMAN_TO]->(:Entity),(:Entity)-[:ENDORSED]->(:Entity),(:Entity)-[:ENCOURAGED]->(:Entity),(:Entity)-[:REFERRED_TO_AS]->(:Entity),(:Entity)-[:PARTICIPATED_IN]->(:Entity),(:Entity)-[:WROTE]->(:Entity),(:Entity)-[:WAS]->(:Entity),(:Entity)-[:HAS]->(:Entity),(:Entity)-[:CRITICIZED]->(:Entity),(:Entity)-[:WORKED_WITH]->(:Entity),(:Entity)-[:LEFT]->(:Entity),(:Entity)-[:WON]->(:Entity),(:Entity)-[:RELEASED]->(:Entity),(:Entity)-[:FEATURED_ON]->(:Entity),(:Entity)-[:PERFORMED]->(:Entity),(:Entity)-[:CONTINUED_WRITING]->(:Entity),(:Entity)-[:DATED]->(:Entity),(:Entity)-[:SIGNED]->(:Entity),(:Entity)-[:DATING]->(:Entity),(:Entity)-[:REINVENTED_WITH]->(:Entity),(:Entity)-[:EMBRACED]->(:Entity),(:Entity)-[:POSSESSES]->(:Entity),(:Entity)-[:ADMITTED]->(:Entity),(:Entity)-[:IDENTIFIES_AS]->(:Entity),(:Entity)-[:WELCOMED]->(:Entity),(:Entity)-[:AWARDED_WITH]->(:Entity),(:Entity)-[:PRAISED_FOR]->(:Entity),(:Entity)-[:EMPHASIZES]->(:Entity),(:Entity)-[:COLLABORATED_WITH]->(:Entity),(:Entity)-[:HAS_WON]->(:Entity),(:Entity)-[:TOPPED]->(:Entity),(:Entity)-[:CREDITED_WITH]->(:Entity),(:Entity)-[:ACCUSED_OF]->(:Entity),(:Entity)-[:SHAPED]->(:Entity),(:Entity)-[:ACHIEVED]->(:Entity),(:Entity)-[:DONATED]->(:Entity),(:Entity)-[:SUPPORTER_OF]->(:Entity),(:Entity)-[:DONATED_TO]->(:Entity),(:Entity)-[:EARNED]->(:Entity),(:Entity)-[:EXPLORED]->(:Entity),(:Entity)-[:CO-WROTE]->(:Entity),(:Entity)-[:MADE]->(:Entity),(:Entity)-[:NAMED]->(:Entity),(:Entity)-[:HONORED_WITH]->(:Entity),(:Entity)-[:KNOWN_FOR]->(:Entity),(:Entity)-[:DOMINATES]->(:Entity),(:Entity)-[:CALLED]->(:Entity),(:Entity)-[:EXPERIMENTED_WITH]->(:Entity),(:Entity)-[:TRAVELED_TO]->(:Entity),(:Entity)-[:STARTED_LEARNING]->(:Entity),(:Entity)-[:BECAME]->(:Entity),(:Entity)-[:CAUGHT]->(:Entity),(:Entity)-[:WAS_NAMED]->(:Entity),(:Entity)-[:INCLUDED]->(:Entity),(:Entity)-[:BEGAN_LIVING_IN]->(:Entity),(:Entity)-[:PRODUCED]->(:Entity),(:Entity)-[:REMOVED]->(:Entity),(:Entity)-[:RECORDED]->(:Entity),(:Entity)-[:COUNTERSUED]->(:Entity),(:Entity)-[:BECAME_EMBROILED_IN]->(:Entity),(:Entity)-[:SURPRISE-RELEASED]->(:Entity),(:Entity)-[:PLAYED]->(:Entity),(:Entity)-[:PREMIERED]->(:Entity),(:Entity)-[:SOLD]->(:Entity),(:Entity)-[:ACCOMPANIES]->(:Entity),(:Entity)-[:HAD]->(:Entity),(:Entity)-[:INCORPORATED]->(:Entity),(:Entity)-[:RANKED]->(:Entity),(:Entity)-[:DIVIDES]->(:Entity),(:Entity)-[:AWARDED]->(:Entity),(:Entity)-[:NOTED_AS]->(:Entity),(:Entity)-[:COMMANDS]->(:Entity),(:Entity)-[:CITED]->(:Entity),(:Entity)-[:REMAINS]->(:Entity),(:Entity)-[:KNOWN_AS]->(:Entity),(:Entity)-[:PURCHASED]->(:Entity),(:Entity)-[:EXTENDED_SUCCESS_BEYOND]->(:Entity),(:Entity)-[:PIONEERED_USE_OF]->(:Entity),(:Entity)-[:INTRODUCED_GENRE_TO]->(:Entity),(:Entity)-[:CHANGED]->(:Entity),(:Entity)-[:MAINTAINS]->(:Entity),(:Entity)-[:BEGAN_MEETING_FOR]->(:Entity),(:Entity)-[:SPENT]->(:Entity),(:Entity)-[:OPENED_AT]->(:Entity),(:Entity)-[:PEAKED_ATOP]->(:Entity),(:Entity)-[:INCORPORATES]->(:Entity),(:Entity)-[:TOPPED_THE_CHARTS_IN]->(:Entity),(:Entity)-[:COMMENTED]->(:Entity)'}})"
      ]
     },
     "execution_count": 27,
     "metadata": {},
     "output_type": "execute_result"
    }
   ],
   "source": [
    "# Failure mode: relation\n",
    "graph_response = graph_query_engine.query(\n",
    "    \"Where did Swift donate to?\" \n",
    ")\n",
    "graph_response"
   ]
  },
  {
   "cell_type": "code",
   "execution_count": 28,
   "id": "499ae969-2e63-47cd-a124-4269057fcff9",
   "metadata": {},
   "outputs": [
    {
     "data": {
      "text/plain": [
       "[{'a': {'id': 'Swift'},\n",
       "  'r': ({'id': 'Swift'},\n",
       "   'DONATED_$4_MILLION_TO',\n",
       "   {'id': 'Country music hall of fame and museum'}),\n",
       "  'b': {'id': 'Country music hall of fame and museum'}}]"
      ]
     },
     "execution_count": 28,
     "metadata": {},
     "output_type": "execute_result"
    }
   ],
   "source": [
    "# Missing this entry as the relation is written to include the amount too\n",
    "query_response = graph.query(\n",
    "    \"MATCH (a:Entity)-[r:DONATED_$4_MILLION_TO]->(b:Entity) RETURN a, r, b\"\n",
    ")\n",
    "query_response"
   ]
  },
  {
   "cell_type": "code",
   "execution_count": 69,
   "id": "66429e97-014f-4ec1-a615-bb22ac73d343",
   "metadata": {},
   "outputs": [
    {
     "data": {
      "text/plain": [
       "[{'n1': {'id': 'Taylor alison swift'},\n",
       "  'r': ({'id': 'Taylor alison swift'},\n",
       "   'IS_NAMED_AFTER',\n",
       "   {'id': 'James taylor'}),\n",
       "  'n2': {'id': 'James taylor'}},\n",
       " {'n1': {'id': 'Taylor alison swift'},\n",
       "  'r': ({'id': 'Taylor alison swift'},\n",
       "   'FATHER_IS',\n",
       "   {'id': 'Scott kingsley swift'}),\n",
       "  'n2': {'id': 'Scott kingsley swift'}},\n",
       " {'n1': {'id': 'Taylor alison swift'},\n",
       "  'r': ({'id': 'Taylor alison swift'},\n",
       "   'MOTHER_IS',\n",
       "   {'id': 'Andrea gardner swift'}),\n",
       "  'n2': {'id': 'Andrea gardner swift'}},\n",
       " {'n1': {'id': 'Taylor alison swift'},\n",
       "  'r': ({'id': 'Taylor alison swift'},\n",
       "   'SPENT_EARLY_YEARS_ON',\n",
       "   {'id': 'Christmas tree farm'}),\n",
       "  'n2': {'id': 'Christmas tree farm'}},\n",
       " {'n1': {'id': 'Taylor alison swift'},\n",
       "  'r': ({'id': 'Taylor alison swift'},\n",
       "   'HAS_FATHER',\n",
       "   {'id': 'Scott kingsley swift'}),\n",
       "  'n2': {'id': 'Scott kingsley swift'}},\n",
       " {'n1': {'id': 'Taylor alison swift'},\n",
       "  'r': ({'id': 'Taylor alison swift'},\n",
       "   'HAS_MOTHER',\n",
       "   {'id': 'Andrea gardner swift'}),\n",
       "  'n2': {'id': 'Andrea gardner swift'}},\n",
       " {'n1': {'id': 'Taylor alison swift'},\n",
       "  'r': ({'id': 'Taylor alison swift'}, 'HAS_BROTHER', {'id': 'Austin'}),\n",
       "  'n2': {'id': 'Austin'}},\n",
       " {'n1': {'id': 'Swift'},\n",
       "  'r': ({'id': 'Swift'}, 'IS', {'id': 'Most-streamed act on spotify'}),\n",
       "  'n2': {'id': 'Most-streamed act on spotify'}},\n",
       " {'n1': {'id': 'Swift'},\n",
       "  'r': ({'id': 'Swift'},\n",
       "   'IS',\n",
       "   {'id': 'First woman to simultaneously chart five albums in the top 10'}),\n",
       "  'n2': {'id': 'First woman to simultaneously chart five albums in the top 10'}},\n",
       " {'n1': {'id': 'Swift'},\n",
       "  'r': ({'id': 'Swift'},\n",
       "   'IS',\n",
       "   {'id': 'Second highest-certified female digital singles artist'}),\n",
       "  'n2': {'id': 'Second highest-certified female digital singles artist'}}]"
      ]
     },
     "execution_count": 69,
     "metadata": {},
     "output_type": "execute_result"
    }
   ],
   "source": [
    "# Failure mode - Time: the basic prompt does not seem to capture any time information of the event\n",
    "# You can remove the limit to see all the records\n",
    "graph.query(\"MATCH (n1)-[r]->(n2) RETURN n1, r, n2 LIMIT 10 \")"
   ]
  },
  {
   "cell_type": "code",
   "execution_count": 70,
   "id": "f7b5a8c3-1fe4-4ae1-aff9-027a71ac3600",
   "metadata": {},
   "outputs": [
    {
     "data": {
      "text/plain": [
       "[{'swift': {'birthdate': neo4j.time.Date(1989, 12, 13), 'id': 'Swift'}}]"
      ]
     },
     "execution_count": 70,
     "metadata": {},
     "output_type": "execute_result"
    }
   ],
   "source": [
    "# Let's insert that relation ourselves for further investigation\n",
    "graph.query(\"MATCH (swift:Entity {id: 'Swift'}) SET swift.birthdate = date('1989-12-13') RETURN swift\")"
   ]
  },
  {
   "cell_type": "code",
   "execution_count": 72,
   "id": "36411d7a-0a22-4a36-8706-6a358de8eb16",
   "metadata": {},
   "outputs": [
    {
     "data": {
      "text/plain": [
       "'Node properties are the following:\\nEntity {id: STRING, birthdate: DATE}\\nRelationship properties are the following:\\n\\nThe relationships are the following:\\n(:Entity)-[:IS_NAMED_AFTER]->(:Entity),(:Entity)-[:FATHER_IS]->(:Entity),(:Entity)-[:MOTHER_IS]->(:Entity),(:Entity)-[:HAS_FATHER]->(:Entity),(:Entity)-[:HAS_MOTHER]->(:Entity),(:Entity)-[:HAS_BROTHER]->(:Entity),(:Entity)-[:SPENT_EARLY_YEARS_ON]->(:Entity),(:Entity)-[:IS]->(:Entity),(:Entity)-[:IS_ESTIMATED_BY]->(:Entity),(:Entity)-[:DONATED_$4_MILLION_TO]->(:Entity),(:Entity)-[:EMPLOYED]->(:Entity),(:Entity)-[:GAVE]->(:Entity),(:Entity)-[:WANTED_TO_CAPTURE]->(:Entity),(:Entity)-[:RE-RECORDING]->(:Entity),(:Entity)-[:BEGAN_RE-RECORDING]->(:Entity),(:Entity)-[:PROCLAIMED_AS]->(:Entity),(:Entity)-[:DEVELOPED]->(:Entity),(:Entity)-[:CREATED]->(:Entity),(:Entity)-[:ANNOUNCED]->(:Entity),(:Entity)-[:BLENDED]->(:Entity),(:Entity)-[:CHOSE]->(:Entity),(:Entity)-[:FASCINATION_WITH]->(:Entity),(:Entity)-[:RECEIVED]->(:Entity),(:Entity)-[:LYRICAL_INFLUENCES_INCLUDE]->(:Entity),(:Entity)-[:CONFESSIONAL_LYRICS_RECEIVED]->(:Entity),(:Entity)-[:DEBUTED_AS]->(:Entity),(:Entity)-[:INCLUDED_ON]->(:Entity),(:Entity)-[:FIRST_WOMAN_TO]->(:Entity),(:Entity)-[:ENDORSED]->(:Entity),(:Entity)-[:ENCOURAGED]->(:Entity),(:Entity)-[:REFERRED_TO_AS]->(:Entity),(:Entity)-[:PARTICIPATED_IN]->(:Entity),(:Entity)-[:WROTE]->(:Entity),(:Entity)-[:WAS]->(:Entity),(:Entity)-[:HAS]->(:Entity),(:Entity)-[:CRITICIZED]->(:Entity),(:Entity)-[:WORKED_WITH]->(:Entity),(:Entity)-[:LEFT]->(:Entity),(:Entity)-[:WON]->(:Entity),(:Entity)-[:RELEASED]->(:Entity),(:Entity)-[:FEATURED_ON]->(:Entity),(:Entity)-[:PERFORMED]->(:Entity),(:Entity)-[:CONTINUED_WRITING]->(:Entity),(:Entity)-[:DATED]->(:Entity),(:Entity)-[:SIGNED]->(:Entity),(:Entity)-[:DATING]->(:Entity),(:Entity)-[:REINVENTED_WITH]->(:Entity),(:Entity)-[:EMBRACED]->(:Entity),(:Entity)-[:POSSESSES]->(:Entity),(:Entity)-[:ADMITTED]->(:Entity),(:Entity)-[:IDENTIFIES_AS]->(:Entity),(:Entity)-[:WELCOMED]->(:Entity),(:Entity)-[:AWARDED_WITH]->(:Entity),(:Entity)-[:PRAISED_FOR]->(:Entity),(:Entity)-[:EMPHASIZES]->(:Entity),(:Entity)-[:COLLABORATED_WITH]->(:Entity),(:Entity)-[:HAS_WON]->(:Entity),(:Entity)-[:TOPPED]->(:Entity),(:Entity)-[:CREDITED_WITH]->(:Entity),(:Entity)-[:ACCUSED_OF]->(:Entity),(:Entity)-[:SHAPED]->(:Entity),(:Entity)-[:ACHIEVED]->(:Entity),(:Entity)-[:DONATED]->(:Entity),(:Entity)-[:SUPPORTER_OF]->(:Entity),(:Entity)-[:DONATED_TO]->(:Entity),(:Entity)-[:EARNED]->(:Entity),(:Entity)-[:EXPLORED]->(:Entity),(:Entity)-[:CO-WROTE]->(:Entity),(:Entity)-[:MADE]->(:Entity),(:Entity)-[:NAMED]->(:Entity),(:Entity)-[:HONORED_WITH]->(:Entity),(:Entity)-[:KNOWN_FOR]->(:Entity),(:Entity)-[:DOMINATES]->(:Entity),(:Entity)-[:CALLED]->(:Entity),(:Entity)-[:EXPERIMENTED_WITH]->(:Entity),(:Entity)-[:TRAVELED_TO]->(:Entity),(:Entity)-[:STARTED_LEARNING]->(:Entity),(:Entity)-[:BECAME]->(:Entity),(:Entity)-[:CAUGHT]->(:Entity),(:Entity)-[:WAS_NAMED]->(:Entity),(:Entity)-[:INCLUDED]->(:Entity),(:Entity)-[:BEGAN_LIVING_IN]->(:Entity),(:Entity)-[:PRODUCED]->(:Entity),(:Entity)-[:REMOVED]->(:Entity),(:Entity)-[:RECORDED]->(:Entity),(:Entity)-[:COUNTERSUED]->(:Entity),(:Entity)-[:BECAME_EMBROILED_IN]->(:Entity),(:Entity)-[:SURPRISE-RELEASED]->(:Entity),(:Entity)-[:PLAYED]->(:Entity),(:Entity)-[:PREMIERED]->(:Entity),(:Entity)-[:SOLD]->(:Entity),(:Entity)-[:ACCOMPANIES]->(:Entity),(:Entity)-[:HAD]->(:Entity),(:Entity)-[:INCORPORATED]->(:Entity),(:Entity)-[:RANKED]->(:Entity),(:Entity)-[:DIVIDES]->(:Entity),(:Entity)-[:AWARDED]->(:Entity),(:Entity)-[:NOTED_AS]->(:Entity),(:Entity)-[:COMMANDS]->(:Entity),(:Entity)-[:CITED]->(:Entity),(:Entity)-[:REMAINS]->(:Entity),(:Entity)-[:KNOWN_AS]->(:Entity),(:Entity)-[:PURCHASED]->(:Entity),(:Entity)-[:EXTENDED_SUCCESS_BEYOND]->(:Entity),(:Entity)-[:PIONEERED_USE_OF]->(:Entity),(:Entity)-[:INTRODUCED_GENRE_TO]->(:Entity),(:Entity)-[:CHANGED]->(:Entity),(:Entity)-[:MAINTAINS]->(:Entity),(:Entity)-[:BEGAN_MEETING_FOR]->(:Entity),(:Entity)-[:SPENT]->(:Entity),(:Entity)-[:OPENED_AT]->(:Entity),(:Entity)-[:PEAKED_ATOP]->(:Entity),(:Entity)-[:INCORPORATES]->(:Entity),(:Entity)-[:TOPPED_THE_CHARTS_IN]->(:Entity),(:Entity)-[:COMMENTED]->(:Entity)'"
      ]
     },
     "execution_count": 72,
     "metadata": {},
     "output_type": "execute_result"
    }
   ],
   "source": [
    "# Make sure we have refreshed the schema information and re-initialize graph_query_engine\n",
    "graph.refresh_schema()\n",
    "graph.schema\n",
    "graph_query_engine = KnowledgeGraphQueryEngine(\n",
    "    storage_context=storage_context,\n",
    "    llm=Settings.llm,\n",
    "    verbose=True,\n",
    "    graph_query_synthesis_prompt=DEFAULT_NEO4J_NL2CYPHER_PROMPT,\n",
    "\n",
    ")"
   ]
  },
  {
   "cell_type": "code",
   "execution_count": 84,
   "id": "fe57bfb1-2df3-4781-be31-87d70bdba2a4",
   "metadata": {},
   "outputs": [
    {
     "name": "stdout",
     "output_type": "stream",
     "text": [
      "INFO:httpx:HTTP Request: POST https://api.openai.com/v1/chat/completions \"HTTP/1.1 200 OK\"\n",
      "\u001b[1;3;33mGraph Store Query:\n",
      "MATCH (e:Entity {id: 'Swift'}) \n",
      "RETURN e.birthdate\n",
      "\u001b[0m\u001b[1;3;33mGraph Store Response:\n",
      "[{'e.birthdate': neo4j.time.Date(1989, 12, 13)}]\n",
      "\u001b[0mINFO:httpx:HTTP Request: POST https://api.openai.com/v1/chat/completions \"HTTP/1.1 200 OK\"\n",
      "\u001b[1;3;32mFinal Response: Swift's birthday is on December 13, 1989.\n",
      "\u001b[0m"
     ]
    },
    {
     "data": {
      "text/plain": [
       "Response(response=\"Swift's birthday is on December 13, 1989.\", source_nodes=[NodeWithScore(node=TextNode(id_='633ab3c3-da87-4f2e-8472-76040e174218', embedding=None, metadata={'query_str': \"When is Swift's birthday?\", 'graph_store_query': \"MATCH (e:Entity {id: 'Swift'}) \\nRETURN e.birthdate\", 'graph_store_response': [{'e.birthdate': neo4j.time.Date(1989, 12, 13)}], 'graph_schema': 'Node properties are the following:\\nEntity {id: STRING, birthdate: DATE}\\nRelationship properties are the following:\\n\\nThe relationships are the following:\\n(:Entity)-[:IS_NAMED_AFTER]->(:Entity),(:Entity)-[:FATHER_IS]->(:Entity),(:Entity)-[:MOTHER_IS]->(:Entity),(:Entity)-[:HAS_FATHER]->(:Entity),(:Entity)-[:HAS_MOTHER]->(:Entity),(:Entity)-[:HAS_BROTHER]->(:Entity),(:Entity)-[:SPENT_EARLY_YEARS_ON]->(:Entity),(:Entity)-[:IS]->(:Entity),(:Entity)-[:IS_ESTIMATED_BY]->(:Entity),(:Entity)-[:DONATED_$4_MILLION_TO]->(:Entity),(:Entity)-[:EMPLOYED]->(:Entity),(:Entity)-[:GAVE]->(:Entity),(:Entity)-[:WANTED_TO_CAPTURE]->(:Entity),(:Entity)-[:RE-RECORDING]->(:Entity),(:Entity)-[:BEGAN_RE-RECORDING]->(:Entity),(:Entity)-[:PROCLAIMED_AS]->(:Entity),(:Entity)-[:DEVELOPED]->(:Entity),(:Entity)-[:CREATED]->(:Entity),(:Entity)-[:ANNOUNCED]->(:Entity),(:Entity)-[:BLENDED]->(:Entity),(:Entity)-[:CHOSE]->(:Entity),(:Entity)-[:FASCINATION_WITH]->(:Entity),(:Entity)-[:RECEIVED]->(:Entity),(:Entity)-[:LYRICAL_INFLUENCES_INCLUDE]->(:Entity),(:Entity)-[:CONFESSIONAL_LYRICS_RECEIVED]->(:Entity),(:Entity)-[:DEBUTED_AS]->(:Entity),(:Entity)-[:INCLUDED_ON]->(:Entity),(:Entity)-[:FIRST_WOMAN_TO]->(:Entity),(:Entity)-[:ENDORSED]->(:Entity),(:Entity)-[:ENCOURAGED]->(:Entity),(:Entity)-[:REFERRED_TO_AS]->(:Entity),(:Entity)-[:PARTICIPATED_IN]->(:Entity),(:Entity)-[:WROTE]->(:Entity),(:Entity)-[:WAS]->(:Entity),(:Entity)-[:HAS]->(:Entity),(:Entity)-[:CRITICIZED]->(:Entity),(:Entity)-[:WORKED_WITH]->(:Entity),(:Entity)-[:LEFT]->(:Entity),(:Entity)-[:WON]->(:Entity),(:Entity)-[:RELEASED]->(:Entity),(:Entity)-[:FEATURED_ON]->(:Entity),(:Entity)-[:PERFORMED]->(:Entity),(:Entity)-[:CONTINUED_WRITING]->(:Entity),(:Entity)-[:DATED]->(:Entity),(:Entity)-[:SIGNED]->(:Entity),(:Entity)-[:DATING]->(:Entity),(:Entity)-[:REINVENTED_WITH]->(:Entity),(:Entity)-[:EMBRACED]->(:Entity),(:Entity)-[:POSSESSES]->(:Entity),(:Entity)-[:ADMITTED]->(:Entity),(:Entity)-[:IDENTIFIES_AS]->(:Entity),(:Entity)-[:WELCOMED]->(:Entity),(:Entity)-[:AWARDED_WITH]->(:Entity),(:Entity)-[:PRAISED_FOR]->(:Entity),(:Entity)-[:EMPHASIZES]->(:Entity),(:Entity)-[:COLLABORATED_WITH]->(:Entity),(:Entity)-[:HAS_WON]->(:Entity),(:Entity)-[:TOPPED]->(:Entity),(:Entity)-[:CREDITED_WITH]->(:Entity),(:Entity)-[:ACCUSED_OF]->(:Entity),(:Entity)-[:SHAPED]->(:Entity),(:Entity)-[:ACHIEVED]->(:Entity),(:Entity)-[:DONATED]->(:Entity),(:Entity)-[:SUPPORTER_OF]->(:Entity),(:Entity)-[:DONATED_TO]->(:Entity),(:Entity)-[:EARNED]->(:Entity),(:Entity)-[:EXPLORED]->(:Entity),(:Entity)-[:CO-WROTE]->(:Entity),(:Entity)-[:MADE]->(:Entity),(:Entity)-[:NAMED]->(:Entity),(:Entity)-[:HONORED_WITH]->(:Entity),(:Entity)-[:KNOWN_FOR]->(:Entity),(:Entity)-[:DOMINATES]->(:Entity),(:Entity)-[:CALLED]->(:Entity),(:Entity)-[:EXPERIMENTED_WITH]->(:Entity),(:Entity)-[:TRAVELED_TO]->(:Entity),(:Entity)-[:STARTED_LEARNING]->(:Entity),(:Entity)-[:BECAME]->(:Entity),(:Entity)-[:CAUGHT]->(:Entity),(:Entity)-[:WAS_NAMED]->(:Entity),(:Entity)-[:INCLUDED]->(:Entity),(:Entity)-[:BEGAN_LIVING_IN]->(:Entity),(:Entity)-[:PRODUCED]->(:Entity),(:Entity)-[:REMOVED]->(:Entity),(:Entity)-[:RECORDED]->(:Entity),(:Entity)-[:COUNTERSUED]->(:Entity),(:Entity)-[:BECAME_EMBROILED_IN]->(:Entity),(:Entity)-[:SURPRISE-RELEASED]->(:Entity),(:Entity)-[:PLAYED]->(:Entity),(:Entity)-[:PREMIERED]->(:Entity),(:Entity)-[:SOLD]->(:Entity),(:Entity)-[:ACCOMPANIES]->(:Entity),(:Entity)-[:HAD]->(:Entity),(:Entity)-[:INCORPORATED]->(:Entity),(:Entity)-[:RANKED]->(:Entity),(:Entity)-[:DIVIDES]->(:Entity),(:Entity)-[:AWARDED]->(:Entity),(:Entity)-[:NOTED_AS]->(:Entity),(:Entity)-[:COMMANDS]->(:Entity),(:Entity)-[:CITED]->(:Entity),(:Entity)-[:REMAINS]->(:Entity),(:Entity)-[:KNOWN_AS]->(:Entity),(:Entity)-[:PURCHASED]->(:Entity),(:Entity)-[:EXTENDED_SUCCESS_BEYOND]->(:Entity),(:Entity)-[:PIONEERED_USE_OF]->(:Entity),(:Entity)-[:INTRODUCED_GENRE_TO]->(:Entity),(:Entity)-[:CHANGED]->(:Entity),(:Entity)-[:MAINTAINS]->(:Entity),(:Entity)-[:BEGAN_MEETING_FOR]->(:Entity),(:Entity)-[:SPENT]->(:Entity),(:Entity)-[:OPENED_AT]->(:Entity),(:Entity)-[:PEAKED_ATOP]->(:Entity),(:Entity)-[:INCORPORATES]->(:Entity),(:Entity)-[:TOPPED_THE_CHARTS_IN]->(:Entity),(:Entity)-[:COMMENTED]->(:Entity)'}, excluded_embed_metadata_keys=[], excluded_llm_metadata_keys=[], relationships={}, text=\"\\nThe original question is given below.\\nThis question has been translated into a Graph Database query.\\nBoth the Graph query and the response are given below.\\nGiven the Graph Query response, synthesise a response to the original question.\\n\\nOriginal question: When is Swift's birthday?\\nGraph query: MATCH (e:Entity {id: 'Swift'}) \\nRETURN e.birthdate\\nGraph response: [{'e.birthdate': neo4j.time.Date(1989, 12, 13)}]\\nResponse:\\n\", start_char_idx=None, end_char_idx=None, text_template='{metadata_str}\\n\\n{content}', metadata_template='{key}: {value}', metadata_seperator='\\n'), score=1.0)], metadata={'633ab3c3-da87-4f2e-8472-76040e174218': {'query_str': \"When is Swift's birthday?\", 'graph_store_query': \"MATCH (e:Entity {id: 'Swift'}) \\nRETURN e.birthdate\", 'graph_store_response': [{'e.birthdate': neo4j.time.Date(1989, 12, 13)}], 'graph_schema': 'Node properties are the following:\\nEntity {id: STRING, birthdate: DATE}\\nRelationship properties are the following:\\n\\nThe relationships are the following:\\n(:Entity)-[:IS_NAMED_AFTER]->(:Entity),(:Entity)-[:FATHER_IS]->(:Entity),(:Entity)-[:MOTHER_IS]->(:Entity),(:Entity)-[:HAS_FATHER]->(:Entity),(:Entity)-[:HAS_MOTHER]->(:Entity),(:Entity)-[:HAS_BROTHER]->(:Entity),(:Entity)-[:SPENT_EARLY_YEARS_ON]->(:Entity),(:Entity)-[:IS]->(:Entity),(:Entity)-[:IS_ESTIMATED_BY]->(:Entity),(:Entity)-[:DONATED_$4_MILLION_TO]->(:Entity),(:Entity)-[:EMPLOYED]->(:Entity),(:Entity)-[:GAVE]->(:Entity),(:Entity)-[:WANTED_TO_CAPTURE]->(:Entity),(:Entity)-[:RE-RECORDING]->(:Entity),(:Entity)-[:BEGAN_RE-RECORDING]->(:Entity),(:Entity)-[:PROCLAIMED_AS]->(:Entity),(:Entity)-[:DEVELOPED]->(:Entity),(:Entity)-[:CREATED]->(:Entity),(:Entity)-[:ANNOUNCED]->(:Entity),(:Entity)-[:BLENDED]->(:Entity),(:Entity)-[:CHOSE]->(:Entity),(:Entity)-[:FASCINATION_WITH]->(:Entity),(:Entity)-[:RECEIVED]->(:Entity),(:Entity)-[:LYRICAL_INFLUENCES_INCLUDE]->(:Entity),(:Entity)-[:CONFESSIONAL_LYRICS_RECEIVED]->(:Entity),(:Entity)-[:DEBUTED_AS]->(:Entity),(:Entity)-[:INCLUDED_ON]->(:Entity),(:Entity)-[:FIRST_WOMAN_TO]->(:Entity),(:Entity)-[:ENDORSED]->(:Entity),(:Entity)-[:ENCOURAGED]->(:Entity),(:Entity)-[:REFERRED_TO_AS]->(:Entity),(:Entity)-[:PARTICIPATED_IN]->(:Entity),(:Entity)-[:WROTE]->(:Entity),(:Entity)-[:WAS]->(:Entity),(:Entity)-[:HAS]->(:Entity),(:Entity)-[:CRITICIZED]->(:Entity),(:Entity)-[:WORKED_WITH]->(:Entity),(:Entity)-[:LEFT]->(:Entity),(:Entity)-[:WON]->(:Entity),(:Entity)-[:RELEASED]->(:Entity),(:Entity)-[:FEATURED_ON]->(:Entity),(:Entity)-[:PERFORMED]->(:Entity),(:Entity)-[:CONTINUED_WRITING]->(:Entity),(:Entity)-[:DATED]->(:Entity),(:Entity)-[:SIGNED]->(:Entity),(:Entity)-[:DATING]->(:Entity),(:Entity)-[:REINVENTED_WITH]->(:Entity),(:Entity)-[:EMBRACED]->(:Entity),(:Entity)-[:POSSESSES]->(:Entity),(:Entity)-[:ADMITTED]->(:Entity),(:Entity)-[:IDENTIFIES_AS]->(:Entity),(:Entity)-[:WELCOMED]->(:Entity),(:Entity)-[:AWARDED_WITH]->(:Entity),(:Entity)-[:PRAISED_FOR]->(:Entity),(:Entity)-[:EMPHASIZES]->(:Entity),(:Entity)-[:COLLABORATED_WITH]->(:Entity),(:Entity)-[:HAS_WON]->(:Entity),(:Entity)-[:TOPPED]->(:Entity),(:Entity)-[:CREDITED_WITH]->(:Entity),(:Entity)-[:ACCUSED_OF]->(:Entity),(:Entity)-[:SHAPED]->(:Entity),(:Entity)-[:ACHIEVED]->(:Entity),(:Entity)-[:DONATED]->(:Entity),(:Entity)-[:SUPPORTER_OF]->(:Entity),(:Entity)-[:DONATED_TO]->(:Entity),(:Entity)-[:EARNED]->(:Entity),(:Entity)-[:EXPLORED]->(:Entity),(:Entity)-[:CO-WROTE]->(:Entity),(:Entity)-[:MADE]->(:Entity),(:Entity)-[:NAMED]->(:Entity),(:Entity)-[:HONORED_WITH]->(:Entity),(:Entity)-[:KNOWN_FOR]->(:Entity),(:Entity)-[:DOMINATES]->(:Entity),(:Entity)-[:CALLED]->(:Entity),(:Entity)-[:EXPERIMENTED_WITH]->(:Entity),(:Entity)-[:TRAVELED_TO]->(:Entity),(:Entity)-[:STARTED_LEARNING]->(:Entity),(:Entity)-[:BECAME]->(:Entity),(:Entity)-[:CAUGHT]->(:Entity),(:Entity)-[:WAS_NAMED]->(:Entity),(:Entity)-[:INCLUDED]->(:Entity),(:Entity)-[:BEGAN_LIVING_IN]->(:Entity),(:Entity)-[:PRODUCED]->(:Entity),(:Entity)-[:REMOVED]->(:Entity),(:Entity)-[:RECORDED]->(:Entity),(:Entity)-[:COUNTERSUED]->(:Entity),(:Entity)-[:BECAME_EMBROILED_IN]->(:Entity),(:Entity)-[:SURPRISE-RELEASED]->(:Entity),(:Entity)-[:PLAYED]->(:Entity),(:Entity)-[:PREMIERED]->(:Entity),(:Entity)-[:SOLD]->(:Entity),(:Entity)-[:ACCOMPANIES]->(:Entity),(:Entity)-[:HAD]->(:Entity),(:Entity)-[:INCORPORATED]->(:Entity),(:Entity)-[:RANKED]->(:Entity),(:Entity)-[:DIVIDES]->(:Entity),(:Entity)-[:AWARDED]->(:Entity),(:Entity)-[:NOTED_AS]->(:Entity),(:Entity)-[:COMMANDS]->(:Entity),(:Entity)-[:CITED]->(:Entity),(:Entity)-[:REMAINS]->(:Entity),(:Entity)-[:KNOWN_AS]->(:Entity),(:Entity)-[:PURCHASED]->(:Entity),(:Entity)-[:EXTENDED_SUCCESS_BEYOND]->(:Entity),(:Entity)-[:PIONEERED_USE_OF]->(:Entity),(:Entity)-[:INTRODUCED_GENRE_TO]->(:Entity),(:Entity)-[:CHANGED]->(:Entity),(:Entity)-[:MAINTAINS]->(:Entity),(:Entity)-[:BEGAN_MEETING_FOR]->(:Entity),(:Entity)-[:SPENT]->(:Entity),(:Entity)-[:OPENED_AT]->(:Entity),(:Entity)-[:PEAKED_ATOP]->(:Entity),(:Entity)-[:INCORPORATES]->(:Entity),(:Entity)-[:TOPPED_THE_CHARTS_IN]->(:Entity),(:Entity)-[:COMMENTED]->(:Entity)'}})"
      ]
     },
     "execution_count": 84,
     "metadata": {},
     "output_type": "execute_result"
    }
   ],
   "source": [
    "graph_response = graph_query_engine.query(\n",
    "    \"When is Swift's birthday?\" \n",
    ")\n",
    "graph_response"
   ]
  },
  {
   "cell_type": "code",
   "execution_count": 85,
   "id": "2ff7322e-8ad4-4c4c-b04e-58bf0f7cf2cd",
   "metadata": {},
   "outputs": [
    {
     "name": "stdout",
     "output_type": "stream",
     "text": [
      "INFO:httpx:HTTP Request: POST https://api.openai.com/v1/chat/completions \"HTTP/1.1 200 OK\"\n",
      "\u001b[1;3;33mGraph Store Query:\n",
      "MATCH (e:Entity {id: \"Swift\"}) \n",
      "RETURN e.birthdate;\n",
      "\u001b[0m\u001b[1;3;33mGraph Store Response:\n",
      "[{'e.birthdate': neo4j.time.Date(1989, 12, 13)}]\n",
      "\u001b[0mINFO:httpx:HTTP Request: POST https://api.openai.com/v1/chat/completions \"HTTP/1.1 200 OK\"\n",
      "\u001b[1;3;32mFinal Response: Answer: Swift is 32 years old.\n",
      "\u001b[0m"
     ]
    },
    {
     "data": {
      "text/plain": [
       "Response(response='Answer: Swift is 32 years old.', source_nodes=[NodeWithScore(node=TextNode(id_='57dde341-133e-4340-9867-1f2504a72a38', embedding=None, metadata={'query_str': 'How old is Swift?', 'graph_store_query': 'MATCH (e:Entity {id: \"Swift\"}) \\nRETURN e.birthdate;', 'graph_store_response': [{'e.birthdate': neo4j.time.Date(1989, 12, 13)}], 'graph_schema': 'Node properties are the following:\\nEntity {id: STRING, birthdate: DATE}\\nRelationship properties are the following:\\n\\nThe relationships are the following:\\n(:Entity)-[:IS_NAMED_AFTER]->(:Entity),(:Entity)-[:FATHER_IS]->(:Entity),(:Entity)-[:MOTHER_IS]->(:Entity),(:Entity)-[:HAS_FATHER]->(:Entity),(:Entity)-[:HAS_MOTHER]->(:Entity),(:Entity)-[:HAS_BROTHER]->(:Entity),(:Entity)-[:SPENT_EARLY_YEARS_ON]->(:Entity),(:Entity)-[:IS]->(:Entity),(:Entity)-[:IS_ESTIMATED_BY]->(:Entity),(:Entity)-[:DONATED_$4_MILLION_TO]->(:Entity),(:Entity)-[:EMPLOYED]->(:Entity),(:Entity)-[:GAVE]->(:Entity),(:Entity)-[:WANTED_TO_CAPTURE]->(:Entity),(:Entity)-[:RE-RECORDING]->(:Entity),(:Entity)-[:BEGAN_RE-RECORDING]->(:Entity),(:Entity)-[:PROCLAIMED_AS]->(:Entity),(:Entity)-[:DEVELOPED]->(:Entity),(:Entity)-[:CREATED]->(:Entity),(:Entity)-[:ANNOUNCED]->(:Entity),(:Entity)-[:BLENDED]->(:Entity),(:Entity)-[:CHOSE]->(:Entity),(:Entity)-[:FASCINATION_WITH]->(:Entity),(:Entity)-[:RECEIVED]->(:Entity),(:Entity)-[:LYRICAL_INFLUENCES_INCLUDE]->(:Entity),(:Entity)-[:CONFESSIONAL_LYRICS_RECEIVED]->(:Entity),(:Entity)-[:DEBUTED_AS]->(:Entity),(:Entity)-[:INCLUDED_ON]->(:Entity),(:Entity)-[:FIRST_WOMAN_TO]->(:Entity),(:Entity)-[:ENDORSED]->(:Entity),(:Entity)-[:ENCOURAGED]->(:Entity),(:Entity)-[:REFERRED_TO_AS]->(:Entity),(:Entity)-[:PARTICIPATED_IN]->(:Entity),(:Entity)-[:WROTE]->(:Entity),(:Entity)-[:WAS]->(:Entity),(:Entity)-[:HAS]->(:Entity),(:Entity)-[:CRITICIZED]->(:Entity),(:Entity)-[:WORKED_WITH]->(:Entity),(:Entity)-[:LEFT]->(:Entity),(:Entity)-[:WON]->(:Entity),(:Entity)-[:RELEASED]->(:Entity),(:Entity)-[:FEATURED_ON]->(:Entity),(:Entity)-[:PERFORMED]->(:Entity),(:Entity)-[:CONTINUED_WRITING]->(:Entity),(:Entity)-[:DATED]->(:Entity),(:Entity)-[:SIGNED]->(:Entity),(:Entity)-[:DATING]->(:Entity),(:Entity)-[:REINVENTED_WITH]->(:Entity),(:Entity)-[:EMBRACED]->(:Entity),(:Entity)-[:POSSESSES]->(:Entity),(:Entity)-[:ADMITTED]->(:Entity),(:Entity)-[:IDENTIFIES_AS]->(:Entity),(:Entity)-[:WELCOMED]->(:Entity),(:Entity)-[:AWARDED_WITH]->(:Entity),(:Entity)-[:PRAISED_FOR]->(:Entity),(:Entity)-[:EMPHASIZES]->(:Entity),(:Entity)-[:COLLABORATED_WITH]->(:Entity),(:Entity)-[:HAS_WON]->(:Entity),(:Entity)-[:TOPPED]->(:Entity),(:Entity)-[:CREDITED_WITH]->(:Entity),(:Entity)-[:ACCUSED_OF]->(:Entity),(:Entity)-[:SHAPED]->(:Entity),(:Entity)-[:ACHIEVED]->(:Entity),(:Entity)-[:DONATED]->(:Entity),(:Entity)-[:SUPPORTER_OF]->(:Entity),(:Entity)-[:DONATED_TO]->(:Entity),(:Entity)-[:EARNED]->(:Entity),(:Entity)-[:EXPLORED]->(:Entity),(:Entity)-[:CO-WROTE]->(:Entity),(:Entity)-[:MADE]->(:Entity),(:Entity)-[:NAMED]->(:Entity),(:Entity)-[:HONORED_WITH]->(:Entity),(:Entity)-[:KNOWN_FOR]->(:Entity),(:Entity)-[:DOMINATES]->(:Entity),(:Entity)-[:CALLED]->(:Entity),(:Entity)-[:EXPERIMENTED_WITH]->(:Entity),(:Entity)-[:TRAVELED_TO]->(:Entity),(:Entity)-[:STARTED_LEARNING]->(:Entity),(:Entity)-[:BECAME]->(:Entity),(:Entity)-[:CAUGHT]->(:Entity),(:Entity)-[:WAS_NAMED]->(:Entity),(:Entity)-[:INCLUDED]->(:Entity),(:Entity)-[:BEGAN_LIVING_IN]->(:Entity),(:Entity)-[:PRODUCED]->(:Entity),(:Entity)-[:REMOVED]->(:Entity),(:Entity)-[:RECORDED]->(:Entity),(:Entity)-[:COUNTERSUED]->(:Entity),(:Entity)-[:BECAME_EMBROILED_IN]->(:Entity),(:Entity)-[:SURPRISE-RELEASED]->(:Entity),(:Entity)-[:PLAYED]->(:Entity),(:Entity)-[:PREMIERED]->(:Entity),(:Entity)-[:SOLD]->(:Entity),(:Entity)-[:ACCOMPANIES]->(:Entity),(:Entity)-[:HAD]->(:Entity),(:Entity)-[:INCORPORATED]->(:Entity),(:Entity)-[:RANKED]->(:Entity),(:Entity)-[:DIVIDES]->(:Entity),(:Entity)-[:AWARDED]->(:Entity),(:Entity)-[:NOTED_AS]->(:Entity),(:Entity)-[:COMMANDS]->(:Entity),(:Entity)-[:CITED]->(:Entity),(:Entity)-[:REMAINS]->(:Entity),(:Entity)-[:KNOWN_AS]->(:Entity),(:Entity)-[:PURCHASED]->(:Entity),(:Entity)-[:EXTENDED_SUCCESS_BEYOND]->(:Entity),(:Entity)-[:PIONEERED_USE_OF]->(:Entity),(:Entity)-[:INTRODUCED_GENRE_TO]->(:Entity),(:Entity)-[:CHANGED]->(:Entity),(:Entity)-[:MAINTAINS]->(:Entity),(:Entity)-[:BEGAN_MEETING_FOR]->(:Entity),(:Entity)-[:SPENT]->(:Entity),(:Entity)-[:OPENED_AT]->(:Entity),(:Entity)-[:PEAKED_ATOP]->(:Entity),(:Entity)-[:INCORPORATES]->(:Entity),(:Entity)-[:TOPPED_THE_CHARTS_IN]->(:Entity),(:Entity)-[:COMMENTED]->(:Entity)'}, excluded_embed_metadata_keys=[], excluded_llm_metadata_keys=[], relationships={}, text='\\nThe original question is given below.\\nThis question has been translated into a Graph Database query.\\nBoth the Graph query and the response are given below.\\nGiven the Graph Query response, synthesise a response to the original question.\\n\\nOriginal question: How old is Swift?\\nGraph query: MATCH (e:Entity {id: \"Swift\"}) \\nRETURN e.birthdate;\\nGraph response: [{\\'e.birthdate\\': neo4j.time.Date(1989, 12, 13)}]\\nResponse:\\n', start_char_idx=None, end_char_idx=None, text_template='{metadata_str}\\n\\n{content}', metadata_template='{key}: {value}', metadata_seperator='\\n'), score=1.0)], metadata={'57dde341-133e-4340-9867-1f2504a72a38': {'query_str': 'How old is Swift?', 'graph_store_query': 'MATCH (e:Entity {id: \"Swift\"}) \\nRETURN e.birthdate;', 'graph_store_response': [{'e.birthdate': neo4j.time.Date(1989, 12, 13)}], 'graph_schema': 'Node properties are the following:\\nEntity {id: STRING, birthdate: DATE}\\nRelationship properties are the following:\\n\\nThe relationships are the following:\\n(:Entity)-[:IS_NAMED_AFTER]->(:Entity),(:Entity)-[:FATHER_IS]->(:Entity),(:Entity)-[:MOTHER_IS]->(:Entity),(:Entity)-[:HAS_FATHER]->(:Entity),(:Entity)-[:HAS_MOTHER]->(:Entity),(:Entity)-[:HAS_BROTHER]->(:Entity),(:Entity)-[:SPENT_EARLY_YEARS_ON]->(:Entity),(:Entity)-[:IS]->(:Entity),(:Entity)-[:IS_ESTIMATED_BY]->(:Entity),(:Entity)-[:DONATED_$4_MILLION_TO]->(:Entity),(:Entity)-[:EMPLOYED]->(:Entity),(:Entity)-[:GAVE]->(:Entity),(:Entity)-[:WANTED_TO_CAPTURE]->(:Entity),(:Entity)-[:RE-RECORDING]->(:Entity),(:Entity)-[:BEGAN_RE-RECORDING]->(:Entity),(:Entity)-[:PROCLAIMED_AS]->(:Entity),(:Entity)-[:DEVELOPED]->(:Entity),(:Entity)-[:CREATED]->(:Entity),(:Entity)-[:ANNOUNCED]->(:Entity),(:Entity)-[:BLENDED]->(:Entity),(:Entity)-[:CHOSE]->(:Entity),(:Entity)-[:FASCINATION_WITH]->(:Entity),(:Entity)-[:RECEIVED]->(:Entity),(:Entity)-[:LYRICAL_INFLUENCES_INCLUDE]->(:Entity),(:Entity)-[:CONFESSIONAL_LYRICS_RECEIVED]->(:Entity),(:Entity)-[:DEBUTED_AS]->(:Entity),(:Entity)-[:INCLUDED_ON]->(:Entity),(:Entity)-[:FIRST_WOMAN_TO]->(:Entity),(:Entity)-[:ENDORSED]->(:Entity),(:Entity)-[:ENCOURAGED]->(:Entity),(:Entity)-[:REFERRED_TO_AS]->(:Entity),(:Entity)-[:PARTICIPATED_IN]->(:Entity),(:Entity)-[:WROTE]->(:Entity),(:Entity)-[:WAS]->(:Entity),(:Entity)-[:HAS]->(:Entity),(:Entity)-[:CRITICIZED]->(:Entity),(:Entity)-[:WORKED_WITH]->(:Entity),(:Entity)-[:LEFT]->(:Entity),(:Entity)-[:WON]->(:Entity),(:Entity)-[:RELEASED]->(:Entity),(:Entity)-[:FEATURED_ON]->(:Entity),(:Entity)-[:PERFORMED]->(:Entity),(:Entity)-[:CONTINUED_WRITING]->(:Entity),(:Entity)-[:DATED]->(:Entity),(:Entity)-[:SIGNED]->(:Entity),(:Entity)-[:DATING]->(:Entity),(:Entity)-[:REINVENTED_WITH]->(:Entity),(:Entity)-[:EMBRACED]->(:Entity),(:Entity)-[:POSSESSES]->(:Entity),(:Entity)-[:ADMITTED]->(:Entity),(:Entity)-[:IDENTIFIES_AS]->(:Entity),(:Entity)-[:WELCOMED]->(:Entity),(:Entity)-[:AWARDED_WITH]->(:Entity),(:Entity)-[:PRAISED_FOR]->(:Entity),(:Entity)-[:EMPHASIZES]->(:Entity),(:Entity)-[:COLLABORATED_WITH]->(:Entity),(:Entity)-[:HAS_WON]->(:Entity),(:Entity)-[:TOPPED]->(:Entity),(:Entity)-[:CREDITED_WITH]->(:Entity),(:Entity)-[:ACCUSED_OF]->(:Entity),(:Entity)-[:SHAPED]->(:Entity),(:Entity)-[:ACHIEVED]->(:Entity),(:Entity)-[:DONATED]->(:Entity),(:Entity)-[:SUPPORTER_OF]->(:Entity),(:Entity)-[:DONATED_TO]->(:Entity),(:Entity)-[:EARNED]->(:Entity),(:Entity)-[:EXPLORED]->(:Entity),(:Entity)-[:CO-WROTE]->(:Entity),(:Entity)-[:MADE]->(:Entity),(:Entity)-[:NAMED]->(:Entity),(:Entity)-[:HONORED_WITH]->(:Entity),(:Entity)-[:KNOWN_FOR]->(:Entity),(:Entity)-[:DOMINATES]->(:Entity),(:Entity)-[:CALLED]->(:Entity),(:Entity)-[:EXPERIMENTED_WITH]->(:Entity),(:Entity)-[:TRAVELED_TO]->(:Entity),(:Entity)-[:STARTED_LEARNING]->(:Entity),(:Entity)-[:BECAME]->(:Entity),(:Entity)-[:CAUGHT]->(:Entity),(:Entity)-[:WAS_NAMED]->(:Entity),(:Entity)-[:INCLUDED]->(:Entity),(:Entity)-[:BEGAN_LIVING_IN]->(:Entity),(:Entity)-[:PRODUCED]->(:Entity),(:Entity)-[:REMOVED]->(:Entity),(:Entity)-[:RECORDED]->(:Entity),(:Entity)-[:COUNTERSUED]->(:Entity),(:Entity)-[:BECAME_EMBROILED_IN]->(:Entity),(:Entity)-[:SURPRISE-RELEASED]->(:Entity),(:Entity)-[:PLAYED]->(:Entity),(:Entity)-[:PREMIERED]->(:Entity),(:Entity)-[:SOLD]->(:Entity),(:Entity)-[:ACCOMPANIES]->(:Entity),(:Entity)-[:HAD]->(:Entity),(:Entity)-[:INCORPORATED]->(:Entity),(:Entity)-[:RANKED]->(:Entity),(:Entity)-[:DIVIDES]->(:Entity),(:Entity)-[:AWARDED]->(:Entity),(:Entity)-[:NOTED_AS]->(:Entity),(:Entity)-[:COMMANDS]->(:Entity),(:Entity)-[:CITED]->(:Entity),(:Entity)-[:REMAINS]->(:Entity),(:Entity)-[:KNOWN_AS]->(:Entity),(:Entity)-[:PURCHASED]->(:Entity),(:Entity)-[:EXTENDED_SUCCESS_BEYOND]->(:Entity),(:Entity)-[:PIONEERED_USE_OF]->(:Entity),(:Entity)-[:INTRODUCED_GENRE_TO]->(:Entity),(:Entity)-[:CHANGED]->(:Entity),(:Entity)-[:MAINTAINS]->(:Entity),(:Entity)-[:BEGAN_MEETING_FOR]->(:Entity),(:Entity)-[:SPENT]->(:Entity),(:Entity)-[:OPENED_AT]->(:Entity),(:Entity)-[:PEAKED_ATOP]->(:Entity),(:Entity)-[:INCORPORATES]->(:Entity),(:Entity)-[:TOPPED_THE_CHARTS_IN]->(:Entity),(:Entity)-[:COMMENTED]->(:Entity)'}})"
      ]
     },
     "execution_count": 85,
     "metadata": {},
     "output_type": "execute_result"
    }
   ],
   "source": [
    "# the LLM does not know the current time and thus cannot calculate the age properly\n",
    "graph_response = graph_query_engine.query(\n",
    "    \"How old is Swift?\" \n",
    ")\n",
    "graph_response"
   ]
  }
 ],
 "metadata": {
  "kernelspec": {
   "display_name": "Python 3 (ipykernel)",
   "language": "python",
   "name": "python3"
  },
  "language_info": {
   "codemirror_mode": {
    "name": "ipython",
    "version": 3
   },
   "file_extension": ".py",
   "mimetype": "text/x-python",
   "name": "python",
   "nbconvert_exporter": "python",
   "pygments_lexer": "ipython3",
   "version": "3.10.12"
  }
 },
 "nbformat": 4,
 "nbformat_minor": 5
}
